{
 "cells": [
  {
   "cell_type": "markdown",
   "id": "509f44e0",
   "metadata": {},
   "source": [
    "Packages:\n",
    "- python=3.8.8=hdb3f193_4\n",
    "- matplotlib=3.5.0=pypi_0\n",
    "- numpy=1.24.4=pypi_0\n",
    "- pandas=1.2.0=py38ha9443f7_0\n",
    "- tick=0.7.0.1=pypi_0\n",
    "- pytorch=1.13.1=py3.8_cuda11.7_cudnn8.5.0_0\n",
    "- pytorch-cuda=11.7=h67b0de4_1\n",
    "- tensorflow "
   ]
  },
  {
   "cell_type": "code",
   "execution_count": 1,
   "id": "572562c1",
   "metadata": {},
   "outputs": [],
   "source": [
    "import torch\n",
    "import matplotlib.pyplot as plt"
   ]
  },
  {
   "cell_type": "code",
   "execution_count": 54,
   "id": "2a0e3389",
   "metadata": {},
   "outputs": [
    {
     "name": "stdout",
     "output_type": "stream",
     "text": [
      "The autoreload extension is already loaded. To reload it, use:\n",
      "  %reload_ext autoreload\n"
     ]
    }
   ],
   "source": [
    "%load_ext autoreload\n",
    "%autoreload 2\n",
    "%matplotlib inline"
   ]
  },
  {
   "cell_type": "markdown",
   "id": "2c56d2c5",
   "metadata": {},
   "source": [
    "# simulation"
   ]
  },
  {
   "cell_type": "code",
   "execution_count": 3,
   "id": "ad7c2911",
   "metadata": {},
   "outputs": [],
   "source": [
    "from simulate import Hawkes_Shot_Noise_Simulate as HSNS"
   ]
  },
  {
   "cell_type": "code",
   "execution_count": 4,
   "id": "d3b4f346",
   "metadata": {},
   "outputs": [],
   "source": [
    "import numpy as np"
   ]
  },
  {
   "cell_type": "code",
   "execution_count": 5,
   "id": "188e3a4c",
   "metadata": {},
   "outputs": [],
   "source": [
    "param = {'alpha': np.array([[0.0, 0.15, 0.4 , 0. ],\n",
    "                            [0.15, 0.0, 0. , 0.4 ],\n",
    "                            [0.2 , 0.0, 0.0, 0.4 ],\n",
    "                            [0.0, 0.2 , 0.4 , 0.0]]),\n",
    " 'beta': 100,\n",
    " 'endo_baseline': np.array([0.1 , 0.1 , 0.2, 0.2]),\n",
    " 'exo_baseline': np.array([0.2, 0.2]),\n",
    " 'delay': 0.01 # Δ ~ np.random.exponential(delay)\n",
    "}"
   ]
  },
  {
   "cell_type": "code",
   "execution_count": 6,
   "id": "572b2075",
   "metadata": {},
   "outputs": [],
   "source": [
    "simu = HSNS(dim_endo=4, # observable dimension\n",
    "            dim_exo=2, # shot noise\n",
    "            verbose=False)"
   ]
  },
  {
   "cell_type": "code",
   "execution_count": 7,
   "id": "c88daffa",
   "metadata": {},
   "outputs": [],
   "source": [
    "simu.set_parameters(**param)"
   ]
  },
  {
   "cell_type": "code",
   "execution_count": 8,
   "id": "bed1bd1c",
   "metadata": {},
   "outputs": [
    {
     "data": {
      "application/vnd.jupyter.widget-view+json": {
       "model_id": "08d105cd6e4241fd8a1e020cb449f853",
       "version_major": 2,
       "version_minor": 0
      },
      "text/plain": [
       "Simulating...:   0%|          | 0/10 [00:00<?, ?it/s]"
      ]
     },
     "metadata": {},
     "output_type": "display_data"
    }
   ],
   "source": [
    "ts, labels = simu.simulate(\n",
    "            end_time=10000, n_realization=10)"
   ]
  },
  {
   "cell_type": "code",
   "execution_count": 9,
   "id": "f98e891d",
   "metadata": {},
   "outputs": [],
   "source": [
    "simu.compute_cumulants()"
   ]
  },
  {
   "cell_type": "code",
   "execution_count": 10,
   "id": "e37f4f02",
   "metadata": {},
   "outputs": [
    {
     "data": {
      "text/plain": [
       "array([0.79069767, 0.79069767, 0.93023256, 0.93023256])"
      ]
     },
     "execution_count": 10,
     "metadata": {},
     "output_type": "execute_result"
    }
   ],
   "source": [
    "simu.L"
   ]
  },
  {
   "cell_type": "code",
   "execution_count": 11,
   "id": "62a6c825",
   "metadata": {},
   "outputs": [
    {
     "data": {
      "text/plain": [
       "tensor([[1.8425, 1.0212, 1.6418, 1.2201],\n",
       "        [1.0212, 1.8425, 1.2201, 1.6418],\n",
       "        [1.6418, 1.2201, 2.3760, 1.7977],\n",
       "        [1.2201, 1.6418, 1.7977, 2.3760]])"
      ]
     },
     "execution_count": 11,
     "metadata": {},
     "output_type": "execute_result"
    }
   ],
   "source": [
    "simu.C"
   ]
  },
  {
   "cell_type": "code",
   "execution_count": 12,
   "id": "c0f05de5",
   "metadata": {},
   "outputs": [
    {
     "data": {
      "text/plain": [
       "tensor([[ 6.7879,  3.8581,  7.0633,  5.5565],\n",
       "        [ 3.8581,  6.7879,  5.5565,  7.0633],\n",
       "        [ 6.1525,  4.7278, 10.6285,  8.5420],\n",
       "        [ 4.7278,  6.1525,  8.5420, 10.6285]])"
      ]
     },
     "execution_count": 12,
     "metadata": {},
     "output_type": "execute_result"
    }
   ],
   "source": [
    "simu.K # K[i,i,j]"
   ]
  },
  {
   "cell_type": "markdown",
   "id": "f2322cdb",
   "metadata": {},
   "source": [
    "# Estimation"
   ]
  },
  {
   "cell_type": "code",
   "execution_count": 13,
   "id": "5ce998e2",
   "metadata": {},
   "outputs": [
    {
     "name": "stderr",
     "output_type": "stream",
     "text": [
      "2023-11-03 13:31:06.572604: I tensorflow/core/platform/cpu_feature_guard.cc:193] This TensorFlow binary is optimized with oneAPI Deep Neural Network Library (oneDNN) to use the following CPU instructions in performance-critical operations:  AVX2 FMA\n",
      "To enable them in other operations, rebuild TensorFlow with the appropriate compiler flags.\n",
      "2023-11-03 13:31:06.862812: E tensorflow/stream_executor/cuda/cuda_blas.cc:2981] Unable to register cuBLAS factory: Attempting to register factory for plugin cuBLAS when one has already been registered\n",
      "2023-11-03 13:31:08.596786: W tensorflow/stream_executor/platform/default/dso_loader.cc:64] Could not load dynamic library 'libnvinfer.so.7'; dlerror: libnvinfer.so.7: cannot open shared object file: No such file or directory\n",
      "2023-11-03 13:31:08.596950: W tensorflow/stream_executor/platform/default/dso_loader.cc:64] Could not load dynamic library 'libnvinfer_plugin.so.7'; dlerror: libnvinfer_plugin.so.7: cannot open shared object file: No such file or directory\n",
      "2023-11-03 13:31:08.596968: W tensorflow/compiler/tf2tensorrt/utils/py_utils.cc:38] TF-TRT Warning: Cannot dlopen some TensorRT libraries. If you would like to use Nvidia GPU with TensorRT, please make sure the missing libraries mentioned above are installed properly.\n"
     ]
    }
   ],
   "source": [
    "from estimate import Hawkes_Shot_Noise_Estimate"
   ]
  },
  {
   "cell_type": "markdown",
   "id": "f6150c93",
   "metadata": {},
   "source": [
    "## sparse\n"
   ]
  },
  {
   "cell_type": "code",
   "execution_count": 14,
   "id": "9edd8ae0",
   "metadata": {},
   "outputs": [],
   "source": [
    "from learners import sparse_phi"
   ]
  },
  {
   "cell_type": "code",
   "execution_count": 15,
   "id": "6870f2d0",
   "metadata": {},
   "outputs": [],
   "source": [
    "hsne0 = sparse_phi(4,2)"
   ]
  },
  {
   "cell_type": "code",
   "execution_count": 16,
   "id": "b3a053b9",
   "metadata": {},
   "outputs": [],
   "source": [
    "hsne0.set_data(ts, end_time=10000)"
   ]
  },
  {
   "cell_type": "code",
   "execution_count": 17,
   "id": "d615da7f",
   "metadata": {},
   "outputs": [],
   "source": [
    "hsne0.estimate_cumulants(H=1)"
   ]
  },
  {
   "cell_type": "code",
   "execution_count": 18,
   "id": "ef75d783",
   "metadata": {},
   "outputs": [
    {
     "name": "stderr",
     "output_type": "stream",
     "text": [
      "/mnt/nfs/nrdata02-users-data/ruan/ANotebook/HawkesShotNoise/learners.py:277: UserWarning: To copy construct from a tensor, it is recommended to use sourceTensor.clone().detach() or sourceTensor.clone().detach().requires_grad_(True), rather than torch.tensor(sourceTensor).\n",
      "  self.var_phi = torch.tensor(\n"
     ]
    }
   ],
   "source": [
    "hsne0.set_init_values()\n",
    "hsne0.set_variables()"
   ]
  },
  {
   "cell_type": "code",
   "execution_count": 19,
   "id": "27d71660",
   "metadata": {},
   "outputs": [
    {
     "name": "stdout",
     "output_type": "stream",
     "text": [
      "     n_iter  |  objective  |    rel_obj  \n",
      "-----------------------------------------\n",
      "          0  |   5.25e+02  |   7.27e-02\n",
      "       1000  |   8.12e-01  |   9.60e-04\n",
      "       2000  |   3.04e-01  |   7.66e-04\n",
      "       3000  |   2.00e-01  |   2.23e-04\n",
      "       4000  |   1.57e-01  |   2.89e-04\n",
      "       5000  |   1.11e-01  |    4.1e-04\n",
      "       6000  |   6.96e-02  |   5.17e-04\n",
      "       7000  |   4.05e-02  |   5.50e-04\n",
      "       8000  |   2.35e-02  |   5.52e-04\n",
      "       9000  |   1.28e-02  |   6.81e-04\n",
      "      10000  |   5.86e-03  |   8.60e-04\n",
      "      11000  |   2.79e-03  |   5.48e-04\n",
      "      12000  |   2.16e-03  |   5.20e-05\n",
      "      12609  |   2.12e-03  |     0.e+00\n",
      "      20000  |   2.12e-03  |     0.e+00\n"
     ]
    }
   ],
   "source": [
    "hsne0.fit(max_iter=20000, \n",
    "         learning_rate=0.001, \n",
    "         tol=1e-8, \n",
    "         print_every=1000)"
   ]
  },
  {
   "cell_type": "code",
   "execution_count": 20,
   "id": "7c030f1f",
   "metadata": {},
   "outputs": [
    {
     "data": {
      "text/plain": [
       "(array([[0.        , 0.14888087, 0.38820463, 0.        ],\n",
       "        [0.14888087, 0.        , 0.        , 0.38820463],\n",
       "        [0.20335104, 0.        , 0.        , 0.39554566],\n",
       "        [0.        , 0.20335104, 0.39554566, 0.        ]], dtype=float32),\n",
       " array([[0.  , 0.15, 0.4 , 0.  ],\n",
       "        [0.15, 0.  , 0.  , 0.4 ],\n",
       "        [0.2 , 0.  , 0.  , 0.4 ],\n",
       "        [0.  , 0.2 , 0.4 , 0.  ]]))"
      ]
     },
     "execution_count": 20,
     "metadata": {},
     "output_type": "execute_result"
    }
   ],
   "source": [
    "# estimated, true\n",
    "hsne0.adjacency, param['alpha']"
   ]
  },
  {
   "cell_type": "code",
   "execution_count": 21,
   "id": "419240b0",
   "metadata": {},
   "outputs": [
    {
     "data": {
      "text/plain": [
       "(array([0.0958378 , 0.09375387, 0.19205034, 0.18383467], dtype=float32),\n",
       " array([0.1, 0.1, 0.2, 0.2]))"
      ]
     },
     "execution_count": 21,
     "metadata": {},
     "output_type": "execute_result"
    }
   ],
   "source": [
    "# estimated, true\n",
    "hsne0.endo_baseline, param['endo_baseline']"
   ]
  },
  {
   "cell_type": "code",
   "execution_count": 22,
   "id": "150bc7b2",
   "metadata": {},
   "outputs": [
    {
     "data": {
      "text/plain": [
       "tensor(0.0954)"
      ]
     },
     "execution_count": 22,
     "metadata": {},
     "output_type": "execute_result"
    }
   ],
   "source": [
    "# loss using true parameters\n",
    "hsne0.objective(var_phi = torch.tensor([0.15,0.4,0.2,0.4]), var_exo_mu=torch.tensor([0.2]))"
   ]
  },
  {
   "cell_type": "code",
   "execution_count": 23,
   "id": "25f6f6c5",
   "metadata": {},
   "outputs": [
    {
     "data": {
      "text/plain": [
       "tensor(0.0021, grad_fn=<AddBackward0>)"
      ]
     },
     "execution_count": 23,
     "metadata": {},
     "output_type": "execute_result"
    }
   ],
   "source": [
    "# optimal loss \n",
    "hsne0.objective()"
   ]
  },
  {
   "cell_type": "markdown",
   "id": "58da907b",
   "metadata": {},
   "source": [
    "## full \n",
    "### optimize on $\\Phi$ and $\\mu_X$"
   ]
  },
  {
   "cell_type": "code",
   "execution_count": 24,
   "id": "bb4bd9e8",
   "metadata": {},
   "outputs": [],
   "source": [
    "from learners import general_phi"
   ]
  },
  {
   "cell_type": "code",
   "execution_count": 25,
   "id": "59c54c9e",
   "metadata": {},
   "outputs": [],
   "source": [
    "hsne1 = general_phi(4,2)"
   ]
  },
  {
   "cell_type": "code",
   "execution_count": 26,
   "id": "c6a6b154",
   "metadata": {},
   "outputs": [],
   "source": [
    "hsne1.set_data(ts, end_time=10000)"
   ]
  },
  {
   "cell_type": "code",
   "execution_count": 27,
   "id": "de192a9c",
   "metadata": {},
   "outputs": [],
   "source": [
    "hsne1.estimate_cumulants(H=1)"
   ]
  },
  {
   "cell_type": "code",
   "execution_count": 28,
   "id": "1f613c77",
   "metadata": {},
   "outputs": [],
   "source": [
    "hsne1.set_init_values()\n",
    "hsne1.set_variables()"
   ]
  },
  {
   "cell_type": "code",
   "execution_count": 29,
   "id": "fc4a9014",
   "metadata": {},
   "outputs": [
    {
     "name": "stdout",
     "output_type": "stream",
     "text": [
      "     n_iter  |  objective  |    rel_obj  \n",
      "-----------------------------------------\n",
      "          0  |   2.54e+00  |   1.47e+00\n",
      "       1000  |   1.54e-01  |   2.24e-04\n",
      "       2000  |   1.01e-01  |   7.65e-04\n",
      "       3000  |   5.29e-02  |   4.77e-04\n",
      "       4000  |   3.53e-02  |    2.9e-04\n",
      "       5000  |   2.93e-02  |   1.43e-04\n",
      "       6000  |   2.49e-02  |   2.13e-04\n",
      "       7000  |   1.79e-02  |   4.95e-04\n",
      "       8000  |   8.89e-03  |   4.03e-04\n",
      "       9000  |   3.37e-03  |   4.29e-03\n",
      "      10000  |   2.54e-03  |   4.76e-04\n",
      "      11000  |   1.43e-03  |   6.45e-04\n",
      "      12000  |   7.77e-04  |   5.48e-04\n",
      "      13000  |   5.82e-04  |   1.81e-04\n",
      "      14000  |   5.02e-04  |   1.42e-03\n",
      "      15000  |   4.47e-04  |   9.26e-05\n",
      "      16000  |   9.28e-04  |   3.43e-01\n",
      "      17000  |   3.82e-04  |   2.01e-02\n",
      "      18000  |   3.48e-04  |    4.5e-05\n",
      "      19000  |   3.28e-04  |   3.28e-05\n",
      "      20000  |   3.13e-04  |   4.72e-05\n"
     ]
    }
   ],
   "source": [
    "hsne1.fit(max_iter=20000, \n",
    "         learning_rate=0.001, \n",
    "         tol=1e-8, \n",
    "         print_every=1000)"
   ]
  },
  {
   "cell_type": "code",
   "execution_count": 30,
   "id": "178909f5",
   "metadata": {},
   "outputs": [
    {
     "data": {
      "text/plain": [
       "(array([[ 0.02129852,  0.12054231,  0.37720868, -0.02043126],\n",
       "        [ 0.15858132,  0.00376782,  0.06772324,  0.3577375 ],\n",
       "        [ 0.23067106, -0.09111248,  0.00304529,  0.4081171 ],\n",
       "        [ 0.02953047,  0.21797639,  0.4160642 , -0.02104188]],\n",
       "       dtype=float32),\n",
       " array([[0.  , 0.15, 0.4 , 0.  ],\n",
       "        [0.15, 0.  , 0.  , 0.4 ],\n",
       "        [0.2 , 0.  , 0.  , 0.4 ],\n",
       "        [0.  , 0.2 , 0.4 , 0.  ]]))"
      ]
     },
     "execution_count": 30,
     "metadata": {},
     "output_type": "execute_result"
    }
   ],
   "source": [
    "# estimated, true\n",
    "hsne1.adjacency, param['alpha']"
   ]
  },
  {
   "cell_type": "code",
   "execution_count": 31,
   "id": "f65172d4",
   "metadata": {},
   "outputs": [
    {
     "data": {
      "text/plain": [
       "(array([0.10800214, 0.07949491, 0.20506196, 0.18072231], dtype=float32),\n",
       " array([0.1, 0.1, 0.2, 0.2]))"
      ]
     },
     "execution_count": 31,
     "metadata": {},
     "output_type": "execute_result"
    }
   ],
   "source": [
    "# estimated, true\n",
    "hsne1.endo_baseline, param['endo_baseline']"
   ]
  },
  {
   "cell_type": "code",
   "execution_count": 32,
   "id": "181f23cd",
   "metadata": {},
   "outputs": [
    {
     "data": {
      "text/plain": [
       "(array([0.23672195, 0.18290459], dtype=float32), array([0.2, 0.2]))"
      ]
     },
     "execution_count": 32,
     "metadata": {},
     "output_type": "execute_result"
    }
   ],
   "source": [
    "# estimated, true\n",
    "hsne1.exo_baseline, param['exo_baseline']"
   ]
  },
  {
   "cell_type": "code",
   "execution_count": 33,
   "id": "21b0bed3",
   "metadata": {},
   "outputs": [
    {
     "data": {
      "text/plain": [
       "tensor(0.0954)"
      ]
     },
     "execution_count": 33,
     "metadata": {},
     "output_type": "execute_result"
    }
   ],
   "source": [
    "hsne1.objective(var_phi=torch.tensor(simu.adjacencys[0], dtype=torch.float32), \n",
    "               var_exo_mu=torch.tensor(simu.exo_baselines, dtype=torch.float32))"
   ]
  },
  {
   "cell_type": "code",
   "execution_count": 34,
   "id": "0d96b1b2",
   "metadata": {},
   "outputs": [
    {
     "data": {
      "text/plain": [
       "tensor(0.0003, grad_fn=<AddBackward0>)"
      ]
     },
     "execution_count": 34,
     "metadata": {},
     "output_type": "execute_result"
    }
   ],
   "source": [
    "hsne1.objective()"
   ]
  },
  {
   "cell_type": "markdown",
   "id": "f1f328ec",
   "metadata": {},
   "source": [
    "### optimize on $R$ and $\\mu_X$"
   ]
  },
  {
   "cell_type": "code",
   "execution_count": 55,
   "id": "133cf21f",
   "metadata": {},
   "outputs": [],
   "source": [
    "from learners import general_R"
   ]
  },
  {
   "cell_type": "code",
   "execution_count": 56,
   "id": "3b54652c",
   "metadata": {},
   "outputs": [],
   "source": [
    "hsne2 = general_R(4,2)"
   ]
  },
  {
   "cell_type": "code",
   "execution_count": 57,
   "id": "57e07d55",
   "metadata": {},
   "outputs": [],
   "source": [
    "hsne2.set_data(ts, end_time=10000)"
   ]
  },
  {
   "cell_type": "code",
   "execution_count": 58,
   "id": "f7d373e7",
   "metadata": {},
   "outputs": [],
   "source": [
    "hsne2.estimate_cumulants(H=1)"
   ]
  },
  {
   "cell_type": "code",
   "execution_count": 59,
   "id": "ba3d48cf",
   "metadata": {},
   "outputs": [],
   "source": [
    "hsne2.set_init_values()\n",
    "hsne2.set_variables()"
   ]
  },
  {
   "cell_type": "code",
   "execution_count": 60,
   "id": "bf994d3e",
   "metadata": {},
   "outputs": [
    {
     "name": "stdout",
     "output_type": "stream",
     "text": [
      "     n_iter  |  objective  |    rel_obj  \n",
      "-----------------------------------------\n",
      "          0  |   2.93e+00  |   1.85e+00\n",
      "       1000  |   1.54e-01  |   2.12e-04\n",
      "       2000  |   1.08e-01  |   5.71e-04\n",
      "       3000  |   4.76e-02  |   7.53e-04\n",
      "       4000  |   3.24e-02  |   1.31e-04\n",
      "       5000  |   2.79e-02  |   3.87e-04\n",
      "       6000  |   1.78e-02  |   1.92e-04\n",
      "       7000  |   1.28e-02  |     6.e-04\n",
      "       8000  |   7.36e-03  |   4.41e-04\n",
      "       9000  |   3.96e-03  |   7.74e-04\n",
      "      10000  |   2.47e-03  |   2.62e-04\n",
      "      11000  |   1.86e-03  |   3.12e-04\n",
      "      12000  |   1.31e-03  |   5.77e-04\n",
      "      13000  |   8.74e-04  |    4.2e-04\n",
      "      14000  |   6.23e-04  |   2.26e-03\n",
      "      15000  |   3.94e-04  |   2.17e-04\n",
      "      16000  |   2.62e-04  |   3.45e-04\n",
      "      17000  |   1.98e-04  |   2.54e-04\n",
      "      18000  |   1.94e-04  |   8.26e-05\n",
      "      19000  |   1.78e-04  |   1.01e-04\n",
      "      20000  |   2.04e-04  |   4.02e-03\n"
     ]
    }
   ],
   "source": [
    "hsne2.fit(max_iter=20000, \n",
    "         learning_rate=0.001, \n",
    "         tol=1e-8, \n",
    "         print_every=1000)"
   ]
  },
  {
   "cell_type": "code",
   "execution_count": 61,
   "id": "597f8afc",
   "metadata": {},
   "outputs": [
    {
     "data": {
      "text/plain": [
       "(array([[ 0.06991637, -0.02245208,  0.2559143 ,  0.22864544],\n",
       "        [ 0.29441583,  0.00519574, -0.14057203,  0.40001604],\n",
       "        [ 0.23800161,  0.07342392, -0.03173161,  0.38082606],\n",
       "        [-0.15107147,  0.2223357 ,  0.4478253 ,  0.01417589]],\n",
       "       dtype=float32),\n",
       " array([[0.  , 0.15, 0.4 , 0.  ],\n",
       "        [0.15, 0.  , 0.  , 0.4 ],\n",
       "        [0.2 , 0.  , 0.  , 0.4 ],\n",
       "        [0.  , 0.2 , 0.4 , 0.  ]]))"
      ]
     },
     "execution_count": 61,
     "metadata": {},
     "output_type": "execute_result"
    }
   ],
   "source": [
    "# estimated, true\n",
    "hsne2.adjacency, param['alpha']"
   ]
  },
  {
   "cell_type": "code",
   "execution_count": 63,
   "id": "302fe5e3",
   "metadata": {},
   "outputs": [
    {
     "data": {
      "text/plain": [
       "(array([0.07561372, 0.10639544, 0.13916893, 0.23756759], dtype=float32),\n",
       " array([0.1, 0.1, 0.2, 0.2]))"
      ]
     },
     "execution_count": 63,
     "metadata": {},
     "output_type": "execute_result"
    }
   ],
   "source": [
    "# estimated, true\n",
    "hsne2.endo_baseline, param['endo_baseline']"
   ]
  },
  {
   "cell_type": "code",
   "execution_count": 64,
   "id": "72e19a0c",
   "metadata": {},
   "outputs": [
    {
     "data": {
      "text/plain": [
       "(array([0.22536628, 0.20290472], dtype=float32), array([0.2, 0.2]))"
      ]
     },
     "execution_count": 64,
     "metadata": {},
     "output_type": "execute_result"
    }
   ],
   "source": [
    "# estimated, true\n",
    "hsne2.exo_baseline, param['exo_baseline']"
   ]
  },
  {
   "cell_type": "code",
   "execution_count": 66,
   "id": "c7b57495",
   "metadata": {},
   "outputs": [
    {
     "data": {
      "text/plain": [
       "tensor(0.0954)"
      ]
     },
     "execution_count": 66,
     "metadata": {},
     "output_type": "execute_result"
    }
   ],
   "source": [
    "hsne2.objective(var_R=torch.tensor(simu.R, dtype=torch.float32), \n",
    "               var_exo_mu=torch.tensor(simu.exo_baselines, dtype=torch.float32))"
   ]
  },
  {
   "cell_type": "code",
   "execution_count": 67,
   "id": "d783a44b",
   "metadata": {},
   "outputs": [
    {
     "data": {
      "text/plain": [
       "tensor(0.0002, grad_fn=<AddBackward0>)"
      ]
     },
     "execution_count": 67,
     "metadata": {},
     "output_type": "execute_result"
    }
   ],
   "source": [
    "hsne2.objective()"
   ]
  },
  {
   "cell_type": "markdown",
   "id": "5c70aee6",
   "metadata": {},
   "source": [
    "## DATA"
   ]
  },
  {
   "cell_type": "code",
   "execution_count": 83,
   "id": "e6a9fce7",
   "metadata": {},
   "outputs": [],
   "source": [
    "from tools import DataBox"
   ]
  },
  {
   "cell_type": "code",
   "execution_count": 91,
   "id": "98b239bd",
   "metadata": {},
   "outputs": [],
   "source": [
    "db = DataBox('./')\n",
    "data = db.load_pickles('data.pkl')"
   ]
  },
  {
   "cell_type": "markdown",
   "id": "354180be",
   "metadata": {},
   "source": [
    "273 days\n",
    "- from 9am to 17pm everyday"
   ]
  },
  {
   "cell_type": "code",
   "execution_count": 92,
   "id": "f23ffa40",
   "metadata": {},
   "outputs": [
    {
     "data": {
      "text/plain": [
       "273"
      ]
     },
     "execution_count": 92,
     "metadata": {},
     "output_type": "execute_result"
    }
   ],
   "source": [
    "len(data) ## 273 days"
   ]
  },
  {
   "cell_type": "markdown",
   "id": "0180f9e7",
   "metadata": {},
   "source": [
    "dim = 4\n",
    "- 1 -> BNP $P^+$\n",
    "- 2 -> BNP $P^-$\n",
    "- 3 -> SoGe $P^+$\n",
    "- 4 -> SoGe $P^-$"
   ]
  },
  {
   "cell_type": "code",
   "execution_count": 93,
   "id": "d2c0c6dc",
   "metadata": {},
   "outputs": [
    {
     "data": {
      "text/plain": [
       "4"
      ]
     },
     "execution_count": 93,
     "metadata": {},
     "output_type": "execute_result"
    }
   ],
   "source": [
    "len(data[1]) # dim=4, (1,2==> Bnp P)"
   ]
  },
  {
   "cell_type": "markdown",
   "id": "335b9c02",
   "metadata": {},
   "source": []
  },
  {
   "cell_type": "code",
   "execution_count": 94,
   "id": "b7e964ce",
   "metadata": {},
   "outputs": [],
   "source": [
    "def cut_data(data, start, end):\n",
    "    \"\"\"\n",
    "    data : list of list of timestamps\n",
    "    start : hour, ex 10 means starting from 10am\n",
    "    end : hour\n",
    "    \"\"\"\n",
    "    t0 = start*3600 - 3600*9\n",
    "    t1 = end*3600 - 3600 * 9\n",
    "    for day, ts_day in enumerate(data):\n",
    "        ts_day = [ts[(ts > t0) & (ts < t1)]-t0 for ts in ts_day]\n",
    "        data[day] = ts_day\n",
    "    return data"
   ]
  },
  {
   "cell_type": "code",
   "execution_count": 95,
   "id": "d5f37857",
   "metadata": {},
   "outputs": [],
   "source": [
    "times = cut_data(data, 10, 12)"
   ]
  },
  {
   "cell_type": "code",
   "execution_count": 96,
   "id": "388341df",
   "metadata": {},
   "outputs": [
    {
     "data": {
      "text/plain": [
       "[array([2.12562000e+00, 3.56927100e+00, 3.56934700e+00, ...,\n",
       "        7.14011623e+03, 7.14332471e+03, 7.14528152e+03]),\n",
       " array([2.12587100e+00, 3.56966500e+00, 3.77139800e+00, ...,\n",
       "        7.14011738e+03, 7.14332590e+03, 7.14860935e+03]),\n",
       " array([2.04265300e+00, 2.11524800e+00, 2.11668400e+00, ...,\n",
       "        7.19214951e+03, 7.19257633e+03, 7.19278861e+03]),\n",
       " array([  11.416597,   14.698769,   14.699893, ..., 7198.520674,\n",
       "        7198.521192, 7198.533062])]"
      ]
     },
     "execution_count": 96,
     "metadata": {},
     "output_type": "execute_result"
    }
   ],
   "source": [
    "times[0]"
   ]
  },
  {
   "cell_type": "code",
   "execution_count": 97,
   "id": "d5f1ec63",
   "metadata": {},
   "outputs": [],
   "source": [
    "hsne = general_phi(4,2)"
   ]
  },
  {
   "cell_type": "code",
   "execution_count": 98,
   "id": "5ca80269",
   "metadata": {},
   "outputs": [],
   "source": [
    "hsne.set_data(data, end_time=2*3600)"
   ]
  },
  {
   "cell_type": "code",
   "execution_count": 99,
   "id": "c7ac6e79",
   "metadata": {},
   "outputs": [],
   "source": [
    "hsne.estimate_cumulants(H=1)"
   ]
  },
  {
   "cell_type": "code",
   "execution_count": 100,
   "id": "d67c13c5",
   "metadata": {},
   "outputs": [],
   "source": [
    "hsne.set_init_values()\n",
    "hsne.set_variables()"
   ]
  },
  {
   "cell_type": "code",
   "execution_count": 101,
   "id": "c4d03ad2",
   "metadata": {},
   "outputs": [
    {
     "name": "stdout",
     "output_type": "stream",
     "text": [
      "     n_iter  |  objective  |    rel_obj  \n",
      "-----------------------------------------\n",
      "          0  |   3.21e-02  |   2.56e-01\n",
      "       1000  |   1.64e-02  |   5.14e-04\n",
      "       2000  |   1.92e-02  |   5.39e-02\n",
      "       3000  |   1.55e-02  |   1.58e-04\n",
      "       4000  |   1.73e-02  |   1.72e-03\n",
      "       5000  |   1.54e-02  |   1.56e-04\n",
      "       6000  |   1.56e-02  |   9.64e-04\n",
      "       7000  |   1.54e-02  |   1.68e-03\n",
      "       8000  |   1.65e-02  |   9.26e-04\n",
      "       9000  |   1.53e-02  |   1.75e-03\n",
      "      10000  |   1.71e-02  |   1.85e-03\n",
      "      11000  |   1.56e-02  |   3.80e-03\n",
      "      12000  |   1.53e-02  |   1.67e-03\n",
      "      13000  |   1.56e-02  |   4.92e-04\n",
      "      14000  |   1.50e-02  |   2.31e-04\n",
      "      15000  |   2.26e-02  |   4.68e-03\n",
      "      16000  |   1.50e-02  |    2.2e-03\n",
      "      17000  |   1.53e-02  |   3.59e-04\n",
      "      18000  |   1.52e-02  |   5.28e-04\n",
      "      19000  |   1.50e-02  |   4.08e-04\n",
      "      20000  |   1.53e-02  |    7.1e-04\n"
     ]
    }
   ],
   "source": [
    "hsne.fit(max_iter=20000, \n",
    "         learning_rate=0.001, \n",
    "         tol=1e-8, \n",
    "         print_every=1000)"
   ]
  },
  {
   "cell_type": "code",
   "execution_count": 102,
   "id": "1f74ea00",
   "metadata": {},
   "outputs": [
    {
     "data": {
      "text/plain": [
       "array([[-0.17926154,  0.80182445,  0.19418795, -0.11799275],\n",
       "       [ 0.8143471 , -0.17890264, -0.10128468,  0.18548158],\n",
       "       [ 0.2647517 , -0.13501328,  0.17292148,  0.42953077],\n",
       "       [-0.13862553,  0.2690566 ,  0.53344107,  0.11351842]],\n",
       "      dtype=float32)"
      ]
     },
     "execution_count": 102,
     "metadata": {},
     "output_type": "execute_result"
    }
   ],
   "source": [
    "# estimated\n",
    "hsne.adjacency"
   ]
  },
  {
   "cell_type": "code",
   "execution_count": 103,
   "id": "28dad081",
   "metadata": {},
   "outputs": [
    {
     "data": {
      "text/plain": [
       "array([0.11155886, 0.10402797, 0.20381051, 0.17731546], dtype=float32)"
      ]
     },
     "execution_count": 103,
     "metadata": {},
     "output_type": "execute_result"
    }
   ],
   "source": [
    "# estimated\n",
    "hsne.endo_baseline"
   ]
  },
  {
   "cell_type": "code",
   "execution_count": 104,
   "id": "e660e20a",
   "metadata": {},
   "outputs": [
    {
     "data": {
      "text/plain": [
       "array([0.00735208, 0.00367922], dtype=float32)"
      ]
     },
     "execution_count": 104,
     "metadata": {},
     "output_type": "execute_result"
    }
   ],
   "source": [
    "# estimated\n",
    "hsne.exo_baseline"
   ]
  },
  {
   "cell_type": "code",
   "execution_count": null,
   "id": "3a4990ee",
   "metadata": {},
   "outputs": [],
   "source": []
  }
 ],
 "metadata": {
  "kernelspec": {
   "display_name": "Python 3 (ipykernel)",
   "language": "python",
   "name": "python3"
  },
  "language_info": {
   "codemirror_mode": {
    "name": "ipython",
    "version": 3
   },
   "file_extension": ".py",
   "mimetype": "text/x-python",
   "name": "python",
   "nbconvert_exporter": "python",
   "pygments_lexer": "ipython3",
   "version": "3.8.8"
  }
 },
 "nbformat": 4,
 "nbformat_minor": 5
}

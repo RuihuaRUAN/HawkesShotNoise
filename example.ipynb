{
 "cells": [
  {
   "cell_type": "code",
   "execution_count": 1258,
   "id": "6488aabf",
   "metadata": {},
   "outputs": [],
   "source": [
    "from cumulants import compute_cumulants, compute_compressed_cumulants"
   ]
  },
  {
   "cell_type": "code",
   "execution_count": 1259,
   "id": "15385d15",
   "metadata": {},
   "outputs": [
    {
     "name": "stdout",
     "output_type": "stream",
     "text": [
      "The autoreload extension is already loaded. To reload it, use:\n",
      "  %reload_ext autoreload\n"
     ]
    }
   ],
   "source": [
    "\n",
    "%load_ext autoreload\n",
    "%autoreload 2\n",
    "%matplotlib inline"
   ]
  },
  {
   "cell_type": "code",
   "execution_count": 1260,
   "id": "1441acb0",
   "metadata": {},
   "outputs": [],
   "source": [
    "import torch"
   ]
  },
  {
   "cell_type": "code",
   "execution_count": 1261,
   "id": "40b3770c",
   "metadata": {},
   "outputs": [],
   "source": [
    "L = torch.Tensor([0.94981112, 0.94981112, 0.99568268, 0.99568268])\n",
    "R = torch.Tensor([[1.24742243, 0.34459052, 0.77200966, 0.57715386],\n",
    "       [0.34459052, 1.24742243, 0.57715386, 0.77200966],\n",
    "       [0.38600483, 0.28857693, 1.50352339, 0.76307132],\n",
    "       [0.28857693, 0.38600483, 0.76307132, 1.50352339]])\n",
    "mux = torch.Tensor([0., 0.])"
   ]
  },
  {
   "cell_type": "code",
   "execution_count": 1262,
   "id": "b1d73bfe",
   "metadata": {},
   "outputs": [],
   "source": [
    "C, K = compute_cumulants(R, L, mux, return_full_K=True)"
   ]
  },
  {
   "cell_type": "code",
   "execution_count": 1263,
   "id": "95c353ff",
   "metadata": {},
   "outputs": [],
   "source": [
    "from tick.hawkes.inference.base import LearnerHawkesNoParam\n",
    "from tick.hawkes import HawkesCumulantMatching"
   ]
  },
  {
   "cell_type": "code",
   "execution_count": 1264,
   "id": "21f67f8a",
   "metadata": {},
   "outputs": [],
   "source": [
    "integration_support = 1 # H \n",
    "nphc = HawkesCumulantMatching(integration_support, cs_ratio=.15, tol=1e-10, step=0.3)"
   ]
  },
  {
   "cell_type": "markdown",
   "id": "d5f70596",
   "metadata": {},
   "source": [
    "# simulation"
   ]
  },
  {
   "cell_type": "code",
   "execution_count": 1089,
   "id": "e4902a7b",
   "metadata": {},
   "outputs": [],
   "source": [
    "from simulate import Hawkes_Shot_Noise_Simulate as HSNS"
   ]
  },
  {
   "cell_type": "code",
   "execution_count": 1090,
   "id": "6e07c3f8",
   "metadata": {},
   "outputs": [],
   "source": []
  },
  {
   "cell_type": "code",
   "execution_count": 1091,
   "id": "c262fba3",
   "metadata": {},
   "outputs": [],
   "source": [
    "import numpy as np"
   ]
  },
  {
   "cell_type": "code",
   "execution_count": 1092,
   "id": "e3736b46",
   "metadata": {},
   "outputs": [],
   "source": [
    "dic = {'alpha': np.array([[0.0, 0.15, 0.4 , 0. ],\n",
    "                            [0.15, 0.0, 0. , 0.4 ],\n",
    "                            [0.2 , 0.0, 0.0, 0.4 ],\n",
    "                            [0.0, 0.2 , 0.4 , 0.0]]),\n",
    " 'beta': 100,\n",
    " 'endo_baseline': np.array([0.1 , 0.1 , 0.25, 0.25]),\n",
    " 'exo_baseline': np.array([0.2, 0.2]),\n",
    " 'delay': [0.001, 0.001, 0.001, 0.001]}\n"
   ]
  },
  {
   "cell_type": "code",
   "execution_count": 1097,
   "id": "ae7f9ec7",
   "metadata": {},
   "outputs": [],
   "source": [
    "simu = HSNS(dim_endo=4,\n",
    "            dim_exo=2,\n",
    "            end_time=10000, \n",
    "            verbose=False)"
   ]
  },
  {
   "cell_type": "code",
   "execution_count": 1098,
   "id": "d7aefd37",
   "metadata": {},
   "outputs": [
    {
     "name": "stdout",
     "output_type": "stream",
     "text": [
      "[0.001, 0.001, 0.001, 0.001]\n"
     ]
    }
   ],
   "source": [
    "simu.set_parameters(**dic)"
   ]
  },
  {
   "cell_type": "code",
   "execution_count": 1099,
   "id": "d651ba79",
   "metadata": {},
   "outputs": [
    {
     "data": {
      "application/vnd.jupyter.widget-view+json": {
       "model_id": "8f6f9bd46f3b4f8d976df4ae4feada2f",
       "version_major": 2,
       "version_minor": 0
      },
      "text/plain": [
       "Simulating...:   0%|          | 0/10 [00:00<?, ?it/s]"
      ]
     },
     "metadata": {},
     "output_type": "display_data"
    }
   ],
   "source": [
    "ts, labels = simu.simulate(n_realization=10)"
   ]
  },
  {
   "cell_type": "code",
   "execution_count": 1100,
   "id": "862d001e",
   "metadata": {},
   "outputs": [],
   "source": [
    "simu.compute_cumulants()"
   ]
  },
  {
   "cell_type": "code",
   "execution_count": 1101,
   "id": "2daff5cb",
   "metadata": {},
   "outputs": [
    {
     "data": {
      "text/plain": [
       "array([0.8372093 , 0.8372093 , 1.02906977, 1.02906977])"
      ]
     },
     "execution_count": 1101,
     "metadata": {},
     "output_type": "execute_result"
    }
   ],
   "source": [
    "simu.L"
   ]
  },
  {
   "cell_type": "code",
   "execution_count": 1102,
   "id": "5c610d7e",
   "metadata": {},
   "outputs": [
    {
     "data": {
      "text/plain": [
       "tensor([[1.9534, 1.0864, 1.7603, 1.3135],\n",
       "        [1.0864, 1.9534, 1.3135, 1.7603],\n",
       "        [1.7603, 1.3135, 2.6025, 1.9675],\n",
       "        [1.3135, 1.7603, 1.9675, 2.6025]])"
      ]
     },
     "execution_count": 1102,
     "metadata": {},
     "output_type": "execute_result"
    }
   ],
   "source": [
    "simu.C"
   ]
  },
  {
   "cell_type": "code",
   "execution_count": 1103,
   "id": "fc6ba340",
   "metadata": {},
   "outputs": [
    {
     "data": {
      "text/plain": [
       "tensor([[ 7.2068,  4.1074,  7.6031,  5.9952],\n",
       "        [ 4.1074,  7.2068,  5.9952,  7.6031],\n",
       "        [ 6.5806,  5.0734, 11.5731,  9.3093],\n",
       "        [ 5.0734,  6.5806,  9.3093, 11.5731]])"
      ]
     },
     "execution_count": 1103,
     "metadata": {},
     "output_type": "execute_result"
    }
   ],
   "source": [
    "simu.K"
   ]
  },
  {
   "cell_type": "code",
   "execution_count": 1104,
   "id": "a9173ef2",
   "metadata": {},
   "outputs": [
    {
     "data": {
      "text/plain": [
       "10"
      ]
     },
     "execution_count": 1104,
     "metadata": {},
     "output_type": "execute_result"
    }
   ],
   "source": [
    "len(ts)"
   ]
  },
  {
   "cell_type": "markdown",
   "id": "b71ddef6",
   "metadata": {},
   "source": [
    "# Estimation"
   ]
  },
  {
   "cell_type": "code",
   "execution_count": 1146,
   "id": "f470a8ca",
   "metadata": {},
   "outputs": [],
   "source": [
    "from estimate import Hawkes_Shot_Noise_Estimate"
   ]
  },
  {
   "cell_type": "markdown",
   "id": "d6a0a71c",
   "metadata": {},
   "source": [
    "## sparse\n"
   ]
  },
  {
   "cell_type": "code",
   "execution_count": 1165,
   "id": "14fc7cee",
   "metadata": {},
   "outputs": [],
   "source": [
    "from learners import sparse_phi"
   ]
  },
  {
   "cell_type": "code",
   "execution_count": 1166,
   "id": "1e14fff3",
   "metadata": {},
   "outputs": [],
   "source": [
    "hsne = sparse_phi(4,2)"
   ]
  },
  {
   "cell_type": "code",
   "execution_count": 1167,
   "id": "b4aa2189",
   "metadata": {},
   "outputs": [],
   "source": [
    "hsne.set_data(ts, end_time=10000)"
   ]
  },
  {
   "cell_type": "code",
   "execution_count": 1168,
   "id": "166b4643",
   "metadata": {},
   "outputs": [],
   "source": [
    "hsne.estimate_cumulants(H=1)"
   ]
  },
  {
   "cell_type": "code",
   "execution_count": 1169,
   "id": "0a77fcaf",
   "metadata": {},
   "outputs": [
    {
     "data": {
      "text/plain": [
       "array([0.83925, 0.8388 , 1.03526, 1.03353])"
      ]
     },
     "execution_count": 1169,
     "metadata": {},
     "output_type": "execute_result"
    }
   ],
   "source": [
    "hsne.L_emp"
   ]
  },
  {
   "cell_type": "code",
   "execution_count": 1170,
   "id": "6311f99e",
   "metadata": {},
   "outputs": [
    {
     "name": "stderr",
     "output_type": "stream",
     "text": [
      "/mnt/nfs/nrdata02-users-data/ruan/ANotebook/A6-HawkesShotNoise/new/learners.py:187: UserWarning: To copy construct from a tensor, it is recommended to use sourceTensor.clone().detach() or sourceTensor.clone().detach().requires_grad_(True), rather than torch.tensor(sourceTensor).\n",
      "  requires_grad=True,\n"
     ]
    }
   ],
   "source": [
    "hsne.set_init_values()\n",
    "hsne.set_variables()"
   ]
  },
  {
   "cell_type": "code",
   "execution_count": 1171,
   "id": "cd4d321e",
   "metadata": {},
   "outputs": [
    {
     "name": "stdout",
     "output_type": "stream",
     "text": [
      "     n_iter  |  objective  |    rel_obj  \n",
      "-----------------------------------------\n",
      "          0  |   4.18e+02  |   7.32e-02\n",
      "       1000  |    7.9e-01  |   1.39e-03\n",
      "       2000  |   2.72e-01  |   4.76e-04\n",
      "       3000  |   2.07e-01  |   2.44e-04\n",
      "       4000  |   1.54e-01  |   3.57e-04\n",
      "       5000  |   1.02e-01  |   4.63e-04\n",
      "       6000  |   6.24e-02  |   4.97e-04\n",
      "       7000  |   3.89e-02  |   4.47e-04\n",
      "       8000  |   2.48e-02  |   4.70e-04\n",
      "       9000  |   1.51e-02  |   4.95e-04\n",
      "      10000  |   9.90e-03  |   2.91e-04\n",
      "      11000  |   8.42e-03  |   6.53e-05\n",
      "      11587  |   8.29e-03  |     0.e+00\n",
      "      20000  |   8.29e-03  |     0.e+00\n"
     ]
    }
   ],
   "source": [
    "hsne.fit(20000, 0.001, 1e-8, 1000)"
   ]
  },
  {
   "cell_type": "code",
   "execution_count": 1172,
   "id": "abffa732",
   "metadata": {},
   "outputs": [
    {
     "data": {
      "text/plain": [
       "(tensor([0.1528, 0.4098, 0.4451, 0.4047]), array([0.]))"
      ]
     },
     "execution_count": 1172,
     "metadata": {},
     "output_type": "execute_result"
    }
   ],
   "source": [
    "hsne.init_phi, hsne.init_exo_baseline"
   ]
  },
  {
   "cell_type": "code",
   "execution_count": 1173,
   "id": "0b46498d",
   "metadata": {},
   "outputs": [
    {
     "data": {
      "text/plain": [
       "[tensor([0.1510, 0.3940, 0.2048, 0.3981], requires_grad=True),\n",
       " tensor([0.2099], requires_grad=True)]"
      ]
     },
     "execution_count": 1173,
     "metadata": {},
     "output_type": "execute_result"
    }
   ],
   "source": [
    "hsne.variables"
   ]
  },
  {
   "cell_type": "code",
   "execution_count": 1174,
   "id": "c0cb204e",
   "metadata": {},
   "outputs": [
    {
     "data": {
      "text/plain": [
       "array([[0.        , 0.1510089 , 0.39403957, 0.        ],\n",
       "       [0.1510089 , 0.        , 0.        , 0.39403957],\n",
       "       [0.20476322, 0.        , 0.        , 0.39812493],\n",
       "       [0.        , 0.20476322, 0.39812493, 0.        ]], dtype=float32)"
      ]
     },
     "execution_count": 1174,
     "metadata": {},
     "output_type": "execute_result"
    }
   ],
   "source": [
    "hsne.adjacency"
   ]
  },
  {
   "cell_type": "code",
   "execution_count": 1175,
   "id": "508d11e3",
   "metadata": {},
   "outputs": [
    {
     "data": {
      "text/plain": [
       "array([0.09475954, 0.09492324, 0.24204753, 0.23972099], dtype=float32)"
      ]
     },
     "execution_count": 1175,
     "metadata": {},
     "output_type": "execute_result"
    }
   ],
   "source": [
    "hsne.endo_baseline"
   ]
  },
  {
   "cell_type": "code",
   "execution_count": 1176,
   "id": "6ed2f954",
   "metadata": {},
   "outputs": [
    {
     "data": {
      "text/plain": [
       "{'alpha': array([[0.  , 0.15, 0.4 , 0.  ],\n",
       "        [0.15, 0.  , 0.  , 0.4 ],\n",
       "        [0.2 , 0.  , 0.  , 0.4 ],\n",
       "        [0.  , 0.2 , 0.4 , 0.  ]]),\n",
       " 'beta': 100,\n",
       " 'endo_baseline': array([0.1 , 0.1 , 0.25, 0.25]),\n",
       " 'exo_baseline': array([0.2, 0.2]),\n",
       " 'delay': [0.001, 0.001, 0.001, 0.001]}"
      ]
     },
     "execution_count": 1176,
     "metadata": {},
     "output_type": "execute_result"
    }
   ],
   "source": [
    "dic"
   ]
  },
  {
   "cell_type": "code",
   "execution_count": 1177,
   "id": "c4992203",
   "metadata": {},
   "outputs": [
    {
     "data": {
      "text/plain": [
       "tensor(0.0102)"
      ]
     },
     "execution_count": 1177,
     "metadata": {},
     "output_type": "execute_result"
    }
   ],
   "source": [
    "hsne.objective(var_phi = torch.tensor([0.15,0.4,0.2,0.4]), var_exo_mu=torch.tensor([0.2]))"
   ]
  },
  {
   "cell_type": "code",
   "execution_count": 1178,
   "id": "e3c2438d",
   "metadata": {},
   "outputs": [
    {
     "data": {
      "text/plain": [
       "tensor(0.0083, grad_fn=<AddBackward0>)"
      ]
     },
     "execution_count": 1178,
     "metadata": {},
     "output_type": "execute_result"
    }
   ],
   "source": [
    "hsne.objective()"
   ]
  },
  {
   "cell_type": "markdown",
   "id": "79fd6719",
   "metadata": {},
   "source": [
    "## full\n"
   ]
  },
  {
   "cell_type": "code",
   "execution_count": 1193,
   "id": "f83c39a4",
   "metadata": {},
   "outputs": [],
   "source": [
    "from learners import general_phi"
   ]
  },
  {
   "cell_type": "code",
   "execution_count": 1200,
   "id": "8acfdeb4",
   "metadata": {},
   "outputs": [],
   "source": [
    "hsne = general_phi(4,2)"
   ]
  },
  {
   "cell_type": "code",
   "execution_count": 1201,
   "id": "a274c602",
   "metadata": {},
   "outputs": [],
   "source": [
    "hsne.set_data(ts, end_time=10000)"
   ]
  },
  {
   "cell_type": "code",
   "execution_count": 1202,
   "id": "86260e5a",
   "metadata": {},
   "outputs": [],
   "source": [
    "hsne.estimate_cumulants(H=1)"
   ]
  },
  {
   "cell_type": "code",
   "execution_count": 1203,
   "id": "fdc86dbd",
   "metadata": {},
   "outputs": [
    {
     "data": {
      "text/plain": [
       "array([0.83925, 0.8388 , 1.03526, 1.03353])"
      ]
     },
     "execution_count": 1203,
     "metadata": {},
     "output_type": "execute_result"
    }
   ],
   "source": [
    "hsne.L_emp"
   ]
  },
  {
   "cell_type": "code",
   "execution_count": 1204,
   "id": "29af675a",
   "metadata": {},
   "outputs": [],
   "source": [
    "hsne.set_init_values()\n",
    "hsne.set_variables()"
   ]
  },
  {
   "cell_type": "code",
   "execution_count": 1205,
   "id": "5d035897",
   "metadata": {},
   "outputs": [
    {
     "name": "stdout",
     "output_type": "stream",
     "text": [
      "     n_iter  |  objective  |    rel_obj  \n",
      "-----------------------------------------\n",
      "          0  |   2.54e+00  |   1.31e+00\n",
      "       1000  |   1.63e-01  |   2.02e-04\n",
      "       2000  |   1.20e-01  |   4.98e-04\n",
      "       3000  |   4.30e-02  |   1.01e-03\n",
      "       4000  |   2.01e-02  |   6.07e-04\n",
      "       5000  |   1.39e-02  |   2.83e-04\n",
      "       6000  |   1.07e-02  |   2.96e-04\n",
      "       7000  |   7.41e-03  |   4.60e-04\n",
      "       8000  |   5.47e-03  |   4.14e-04\n",
      "       9000  |   3.24e-03  |   6.46e-04\n",
      "      10000  |   1.73e-03  |   4.14e-03\n",
      "      11000  |   1.11e-03  |   3.21e-02\n",
      "      12000  |   6.92e-04  |    3.2e-04\n",
      "      13000  |   5.35e-04  |   4.76e-03\n",
      "      14000  |   4.26e-04  |   7.57e-03\n",
      "      15000  |   4.42e-04  |   8.74e-02\n",
      "      16000  |   3.20e-04  |   9.45e-06\n",
      "      17000  |    2.9e-04  |   5.80e-05\n",
      "      18000  |   2.69e-04  |    4.3e-04\n",
      "      19000  |   2.52e-04  |   9.82e-04\n",
      "      20000  |   2.48e-04  |   1.71e-02\n"
     ]
    }
   ],
   "source": [
    "hsne.fit(20000, 0.001, 1e-8, 1000)"
   ]
  },
  {
   "cell_type": "code",
   "execution_count": 1206,
   "id": "0779bdbe",
   "metadata": {},
   "outputs": [
    {
     "data": {
      "text/plain": [
       "(array([[-4.23908883e-04,  1.52765646e-01,  4.09790254e-01,\n",
       "         -1.64271538e-02],\n",
       "        [ 1.52724685e-01, -1.39251464e-03, -1.26834153e-02,\n",
       "          4.01025559e-01],\n",
       "        [ 4.55135454e-01, -1.40906724e-02, -1.31235742e-01,\n",
       "          4.05018146e-01],\n",
       "        [-1.82296442e-02,  4.45147958e-01,  4.04679596e-01,\n",
       "         -1.20437913e-01]]),\n",
       " array([0., 0.]))"
      ]
     },
     "execution_count": 1206,
     "metadata": {},
     "output_type": "execute_result"
    }
   ],
   "source": [
    "hsne.init_phi, hsne.init_exo_baseline"
   ]
  },
  {
   "cell_type": "code",
   "execution_count": 1207,
   "id": "8aee7247",
   "metadata": {},
   "outputs": [
    {
     "data": {
      "text/plain": [
       "[tensor([[ 0.0008,  0.1808,  0.3696,  0.0318],\n",
       "         [ 0.1121,  0.0239, -0.0134,  0.3717],\n",
       "         [ 0.2414,  0.0680, -0.0276,  0.3724],\n",
       "         [-0.0582,  0.2203,  0.4190, -0.0004]], requires_grad=True),\n",
       " tensor([0.1826, 0.2291], requires_grad=True)]"
      ]
     },
     "execution_count": 1207,
     "metadata": {},
     "output_type": "execute_result"
    }
   ],
   "source": [
    "hsne.variables"
   ]
  },
  {
   "cell_type": "code",
   "execution_count": 1208,
   "id": "80756360",
   "metadata": {},
   "outputs": [
    {
     "data": {
      "text/plain": [
       "array([[ 0.00076303,  0.18075623,  0.36959124,  0.03176131],\n",
       "       [ 0.11213133,  0.02387973, -0.01338104,  0.37173685],\n",
       "       [ 0.241442  ,  0.06795167, -0.02764461,  0.3723709 ],\n",
       "       [-0.05821165,  0.22028972,  0.41898373, -0.00041969]],\n",
       "      dtype=float32)"
      ]
     },
     "execution_count": 1208,
     "metadata": {},
     "output_type": "execute_result"
    }
   ],
   "source": [
    "hsne.adjacency"
   ]
  },
  {
   "cell_type": "code",
   "execution_count": 1209,
   "id": "62a7035a",
   "metadata": {},
   "outputs": [
    {
     "data": {
      "text/plain": [
       "array([0.08894531, 0.12517518, 0.23679812, 0.23514187], dtype=float32)"
      ]
     },
     "execution_count": 1209,
     "metadata": {},
     "output_type": "execute_result"
    }
   ],
   "source": [
    "hsne.endo_baseline"
   ]
  },
  {
   "cell_type": "code",
   "execution_count": 1210,
   "id": "26fd4065",
   "metadata": {},
   "outputs": [
    {
     "data": {
      "text/plain": [
       "{'alpha': array([[0.  , 0.15, 0.4 , 0.  ],\n",
       "        [0.15, 0.  , 0.  , 0.4 ],\n",
       "        [0.2 , 0.  , 0.  , 0.4 ],\n",
       "        [0.  , 0.2 , 0.4 , 0.  ]]),\n",
       " 'beta': 100,\n",
       " 'endo_baseline': array([0.1 , 0.1 , 0.25, 0.25]),\n",
       " 'exo_baseline': array([0.2, 0.2]),\n",
       " 'delay': [0.001, 0.001, 0.001, 0.001]}"
      ]
     },
     "execution_count": 1210,
     "metadata": {},
     "output_type": "execute_result"
    }
   ],
   "source": [
    "dic"
   ]
  },
  {
   "cell_type": "code",
   "execution_count": 1214,
   "id": "118003c3",
   "metadata": {},
   "outputs": [
    {
     "data": {
      "text/plain": [
       "[array([[0.  , 0.15, 0.4 , 0.  ],\n",
       "        [0.15, 0.  , 0.  , 0.4 ],\n",
       "        [0.2 , 0.  , 0.  , 0.4 ],\n",
       "        [0.  , 0.2 , 0.4 , 0.  ]])]"
      ]
     },
     "execution_count": 1214,
     "metadata": {},
     "output_type": "execute_result"
    }
   ],
   "source": [
    "simu.adjacencys"
   ]
  },
  {
   "cell_type": "code",
   "execution_count": 1218,
   "id": "0bce1add",
   "metadata": {},
   "outputs": [
    {
     "data": {
      "text/plain": [
       "tensor(0.0102)"
      ]
     },
     "execution_count": 1218,
     "metadata": {},
     "output_type": "execute_result"
    }
   ],
   "source": [
    "hsne.objective(var_phi=torch.tensor(simu.adjacencys[0], dtype=torch.float32), \n",
    "               var_exo_mu=torch.tensor(simu.exo_baselines, dtype=torch.float32))"
   ]
  },
  {
   "cell_type": "code",
   "execution_count": 1219,
   "id": "e07f04e0",
   "metadata": {},
   "outputs": [
    {
     "data": {
      "text/plain": [
       "tensor(0.0002, grad_fn=<AddBackward0>)"
      ]
     },
     "execution_count": 1219,
     "metadata": {},
     "output_type": "execute_result"
    }
   ],
   "source": [
    "hsne.objective()"
   ]
  },
  {
   "cell_type": "markdown",
   "id": "23b021dc",
   "metadata": {},
   "source": [
    "# Sparse P"
   ]
  },
  {
   "cell_type": "code",
   "execution_count": 1236,
   "id": "00acde41",
   "metadata": {},
   "outputs": [],
   "source": [
    "from learners import sparse_phi_compress"
   ]
  },
  {
   "cell_type": "code",
   "execution_count": 1237,
   "id": "3017c26b",
   "metadata": {},
   "outputs": [],
   "source": [
    "hsne = sparse_phi_compress(4,2)"
   ]
  },
  {
   "cell_type": "code",
   "execution_count": 1238,
   "id": "39ca64ab",
   "metadata": {},
   "outputs": [],
   "source": [
    "hsne.set_data(ts, end_time=10000)"
   ]
  },
  {
   "cell_type": "code",
   "execution_count": 1239,
   "id": "8a4f3297",
   "metadata": {},
   "outputs": [],
   "source": [
    "hsne.estimate_cumulants(H=1)"
   ]
  },
  {
   "cell_type": "code",
   "execution_count": 1240,
   "id": "bea0f067",
   "metadata": {},
   "outputs": [
    {
     "data": {
      "text/plain": [
       "array([0.83925, 0.8388 , 1.03526, 1.03353])"
      ]
     },
     "execution_count": 1240,
     "metadata": {},
     "output_type": "execute_result"
    }
   ],
   "source": [
    "hsne.L_emp"
   ]
  },
  {
   "cell_type": "code",
   "execution_count": 1241,
   "id": "09eab91a",
   "metadata": {},
   "outputs": [
    {
     "data": {
      "text/plain": [
       "(array([[1.9736101 , 1.08571816, 1.78761121, 1.32916633],\n",
       "        [1.08571816, 1.94094919, 1.32516642, 1.75931363],\n",
       "        [1.78761121, 1.32516642, 2.6297321 , 1.99379405],\n",
       "        [1.32916633, 1.75931363, 1.99379405, 2.62299861]]),\n",
       " array([[ 7.3408479 ,  4.06223836,  7.79410144,  6.04563778],\n",
       "        [ 4.10167206,  7.03270722,  6.01206981,  7.56048973],\n",
       "        [ 6.76476087,  5.04184983, 11.71713284,  9.36170254],\n",
       "        [ 5.16040344,  6.48012291,  9.36025347, 11.6775938 ]]))"
      ]
     },
     "execution_count": 1241,
     "metadata": {},
     "output_type": "execute_result"
    }
   ],
   "source": [
    "hsne.C_emp, hsne.K_emp"
   ]
  },
  {
   "cell_type": "code",
   "execution_count": null,
   "id": "fe3a37a9",
   "metadata": {},
   "outputs": [],
   "source": []
  },
  {
   "cell_type": "code",
   "execution_count": 1255,
   "id": "032e407e",
   "metadata": {},
   "outputs": [
    {
     "name": "stderr",
     "output_type": "stream",
     "text": [
      "/mnt/nfs/nrdata02-users-data/ruan/ANotebook/A6-HawkesShotNoise/new/learners.py:324: UserWarning: To copy construct from a tensor, it is recommended to use sourceTensor.clone().detach() or sourceTensor.clone().detach().requires_grad_(True), rather than torch.tensor(sourceTensor).\n",
      "  initial_phi[0, 1],\n"
     ]
    }
   ],
   "source": [
    "hsne.set_init_values()\n",
    "hsne.set_variables()"
   ]
  },
  {
   "cell_type": "code",
   "execution_count": 1256,
   "id": "10fd42a3",
   "metadata": {},
   "outputs": [
    {
     "data": {
      "text/plain": [
       "(tensor([[1.9534, 1.0864, 1.7603, 1.3135],\n",
       "         [1.0864, 1.9534, 1.3135, 1.7603],\n",
       "         [1.7603, 1.3135, 2.6025, 1.9675],\n",
       "         [1.3135, 1.7603, 1.9675, 2.6025]]),\n",
       " tensor([[ 7.2068,  4.1074,  7.6031,  5.9952],\n",
       "         [ 4.1074,  7.2068,  5.9952,  7.6031],\n",
       "         [ 6.5806,  5.0734, 11.5731,  9.3093],\n",
       "         [ 5.0734,  6.5806,  9.3093, 11.5731]]))"
      ]
     },
     "execution_count": 1256,
     "metadata": {},
     "output_type": "execute_result"
    }
   ],
   "source": [
    "simu.C, simu.K"
   ]
  },
  {
   "cell_type": "code",
   "execution_count": 1269,
   "id": "b0bbf2ff",
   "metadata": {},
   "outputs": [],
   "source": [
    "C, K = compute_cumulants(simu.R, simu.L, simu.exo_baselines, return_full_K=True)"
   ]
  },
  {
   "cell_type": "code",
   "execution_count": 1283,
   "id": "ffc7607b",
   "metadata": {},
   "outputs": [],
   "source": [
    "K = K.round()"
   ]
  },
  {
   "cell_type": "code",
   "execution_count": 1284,
   "id": "dc7fad7e",
   "metadata": {},
   "outputs": [
    {
     "data": {
      "text/plain": [
       "(tensor([[1.9534, 1.0864, 1.7603, 1.3135],\n",
       "         [1.0864, 1.9534, 1.3135, 1.7603],\n",
       "         [1.7603, 1.3135, 2.6025, 1.9675],\n",
       "         [1.3135, 1.7603, 1.9675, 2.6025]]),\n",
       " tensor([[[ 7.,  4.,  7.,  5.],\n",
       "          [ 4.,  4.,  4.,  4.],\n",
       "          [ 7.,  4.,  8.,  6.],\n",
       "          [ 5.,  4.,  6.,  6.]],\n",
       " \n",
       "         [[ 4.,  4.,  4.,  4.],\n",
       "          [ 4.,  7.,  5.,  7.],\n",
       "          [ 4.,  5.,  6.,  6.],\n",
       "          [ 4.,  7.,  6.,  8.]],\n",
       " \n",
       "         [[ 7.,  4.,  8.,  6.],\n",
       "          [ 4.,  5.,  6.,  6.],\n",
       "          [ 8.,  6., 12.,  9.],\n",
       "          [ 6.,  6.,  9.,  9.]],\n",
       " \n",
       "         [[ 5.,  4.,  6.,  6.],\n",
       "          [ 4.,  7.,  6.,  8.],\n",
       "          [ 6.,  6.,  9.,  9.],\n",
       "          [ 6.,  8.,  9., 12.]]]))"
      ]
     },
     "execution_count": 1284,
     "metadata": {},
     "output_type": "execute_result"
    }
   ],
   "source": [
    "C, K"
   ]
  },
  {
   "cell_type": "code",
   "execution_count": 1285,
   "id": "bbc5855c",
   "metadata": {},
   "outputs": [],
   "source": [
    "eyes_2 = torch.Tensor([[1, -1, 0, 0], [0, 0, 1, -1]])\n",
    "C_2 = torch.matmul(torch.matmul(eyes_2, C), torch.transpose(eyes_2, 0, 1))\n"
   ]
  },
  {
   "cell_type": "code",
   "execution_count": 1293,
   "id": "24ca600e",
   "metadata": {},
   "outputs": [
    {
     "data": {
      "text/plain": [
       "tensor([[4., 2.],\n",
       "        [2., 3.]])"
      ]
     },
     "execution_count": 1293,
     "metadata": {},
     "output_type": "execute_result"
    }
   ],
   "source": [
    "torch.matmul(torch.matmul(eyes_2, K[2]), torch.transpose(eyes_2, 0, 1))"
   ]
  },
  {
   "cell_type": "code",
   "execution_count": 1286,
   "id": "54e091f6",
   "metadata": {},
   "outputs": [
    {
     "data": {
      "text/plain": [
       "tensor([[1.7340, 0.8935],\n",
       "        [0.8935, 1.2700]])"
      ]
     },
     "execution_count": 1286,
     "metadata": {},
     "output_type": "execute_result"
    }
   ],
   "source": [
    "C_2"
   ]
  },
  {
   "cell_type": "code",
   "execution_count": 1287,
   "id": "62e4ef3c",
   "metadata": {},
   "outputs": [],
   "source": [
    "K_2 = torch.matmul(torch.matmul(eyes_2, K), torch.transpose(eyes_2, 0, 1))"
   ]
  },
  {
   "cell_type": "code",
   "execution_count": 1288,
   "id": "c3a6e269",
   "metadata": {},
   "outputs": [
    {
     "data": {
      "text/plain": [
       "torch.Size([4, 2, 2])"
      ]
     },
     "execution_count": 1288,
     "metadata": {},
     "output_type": "execute_result"
    }
   ],
   "source": [
    "K_2.size()"
   ]
  },
  {
   "cell_type": "code",
   "execution_count": 1289,
   "id": "cd5e9e0d",
   "metadata": {},
   "outputs": [
    {
     "data": {
      "text/plain": [
       "tensor([[[3., 2.],\n",
       "         [2., 2.]],\n",
       "\n",
       "        [[3., 2.],\n",
       "         [2., 2.]],\n",
       "\n",
       "        [[4., 2.],\n",
       "         [2., 3.]],\n",
       "\n",
       "        [[4., 2.],\n",
       "         [2., 3.]]])"
      ]
     },
     "execution_count": 1289,
     "metadata": {},
     "output_type": "execute_result"
    }
   ],
   "source": [
    "K_2"
   ]
  },
  {
   "cell_type": "code",
   "execution_count": 1277,
   "id": "963557cb",
   "metadata": {},
   "outputs": [],
   "source": [
    "K_2 = torch.transpose(torch.matmul(eyes_2, torch.transpose(K_2, 0, 1)), 0, 1)"
   ]
  },
  {
   "cell_type": "code",
   "execution_count": 1278,
   "id": "ad26ed4f",
   "metadata": {},
   "outputs": [
    {
     "data": {
      "text/plain": [
       "tensor([[[0., 0.],\n",
       "         [0., 0.]],\n",
       "\n",
       "        [[0., 0.],\n",
       "         [0., 0.]]])"
      ]
     },
     "execution_count": 1278,
     "metadata": {},
     "output_type": "execute_result"
    }
   ],
   "source": [
    "K_2"
   ]
  },
  {
   "cell_type": "code",
   "execution_count": 1270,
   "id": "61b43e62",
   "metadata": {},
   "outputs": [
    {
     "data": {
      "text/plain": [
       "(tensor([[1.7340, 0.8935],\n",
       "         [0.8935, 1.2700]]),\n",
       " tensor([[[0., 0.],\n",
       "          [0., 0.]],\n",
       " \n",
       "         [[0., 0.],\n",
       "          [0., 0.]]]))"
      ]
     },
     "execution_count": 1270,
     "metadata": {},
     "output_type": "execute_result"
    }
   ],
   "source": [
    "compute_compressed_cumulants(C, K)"
   ]
  },
  {
   "cell_type": "code",
   "execution_count": null,
   "id": "70929187",
   "metadata": {},
   "outputs": [],
   "source": []
  }
 ],
 "metadata": {
  "kernelspec": {
   "display_name": "Python 3 (ipykernel)",
   "language": "python",
   "name": "python3"
  },
  "language_info": {
   "codemirror_mode": {
    "name": "ipython",
    "version": 3
   },
   "file_extension": ".py",
   "mimetype": "text/x-python",
   "name": "python",
   "nbconvert_exporter": "python",
   "pygments_lexer": "ipython3",
   "version": "3.8.8"
  }
 },
 "nbformat": 4,
 "nbformat_minor": 5
}

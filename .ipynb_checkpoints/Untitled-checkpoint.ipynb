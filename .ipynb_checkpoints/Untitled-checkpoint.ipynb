{
 "cells": [
  {
   "cell_type": "code",
   "execution_count": 84,
   "id": "ef22b5bc",
   "metadata": {},
   "outputs": [],
   "source": [
    "from cumulants import compute_cumulants"
   ]
  },
  {
   "cell_type": "code",
   "execution_count": 227,
   "id": "fcc33165",
   "metadata": {},
   "outputs": [
    {
     "name": "stdout",
     "output_type": "stream",
     "text": [
      "The autoreload extension is already loaded. To reload it, use:\n",
      "  %reload_ext autoreload\n"
     ]
    }
   ],
   "source": [
    "\n",
    "%load_ext autoreload\n",
    "%autoreload 2\n",
    "%matplotlib inline"
   ]
  },
  {
   "cell_type": "code",
   "execution_count": 228,
   "id": "8aadbff8",
   "metadata": {},
   "outputs": [],
   "source": [
    "import torch"
   ]
  },
  {
   "cell_type": "code",
   "execution_count": 229,
   "id": "ac51ab1d",
   "metadata": {},
   "outputs": [],
   "source": [
    "L = torch.Tensor([0.94981112, 0.94981112, 0.99568268, 0.99568268])\n",
    "R = torch.Tensor([[1.24742243, 0.34459052, 0.77200966, 0.57715386],\n",
    "       [0.34459052, 1.24742243, 0.57715386, 0.77200966],\n",
    "       [0.38600483, 0.28857693, 1.50352339, 0.76307132],\n",
    "       [0.28857693, 0.38600483, 0.76307132, 1.50352339]])\n",
    "mux = torch.Tensor([0.2, 0.2])"
   ]
  },
  {
   "cell_type": "code",
   "execution_count": 230,
   "id": "7d7bce11",
   "metadata": {},
   "outputs": [
    {
     "data": {
      "text/plain": [
       "(tensor([[2.9806, 2.0982, 2.6666, 2.3019],\n",
       "         [2.0982, 2.9806, 2.3019, 2.6666],\n",
       "         [2.6666, 2.3019, 3.3714, 2.7877],\n",
       "         [2.3019, 2.6666, 2.7877, 3.3714]]),\n",
       " tensor([[16.6656, 12.1760, 16.7432, 15.0314],\n",
       "         [12.1760, 16.6656, 15.0314, 16.7432],\n",
       "         [15.3698, 13.6810, 21.6928, 18.7482],\n",
       "         [13.6810, 15.3698, 18.7482, 21.6928]]))"
      ]
     },
     "execution_count": 230,
     "metadata": {},
     "output_type": "execute_result"
    }
   ],
   "source": [
    "compute_cumulants(R, L, mux)"
   ]
  },
  {
   "cell_type": "code",
   "execution_count": 231,
   "id": "53ecf154",
   "metadata": {},
   "outputs": [],
   "source": [
    "from tick.hawkes.inference.base import LearnerHawkesNoParam\n",
    "from tick.hawkes import HawkesCumulantMatching"
   ]
  },
  {
   "cell_type": "code",
   "execution_count": 232,
   "id": "2935da41",
   "metadata": {},
   "outputs": [],
   "source": [
    "integration_support = 1 # H \n",
    "nphc = HawkesCumulantMatching(integration_support, cs_ratio=.15, tol=1e-10, step=0.3)"
   ]
  },
  {
   "cell_type": "code",
   "execution_count": 387,
   "id": "4c9b4fa4",
   "metadata": {},
   "outputs": [],
   "source": [
    "from simulate import Hawkes_Shot_Noise_Simulate as HSNS"
   ]
  },
  {
   "cell_type": "code",
   "execution_count": 388,
   "id": "2488e15c",
   "metadata": {},
   "outputs": [],
   "source": [
    "simu = HSNS(4,2,1000, False)"
   ]
  },
  {
   "cell_type": "code",
   "execution_count": 389,
   "id": "0dec6075",
   "metadata": {},
   "outputs": [],
   "source": [
    "import numpy as np"
   ]
  },
  {
   "cell_type": "code",
   "execution_count": 390,
   "id": "e4a5a8c1",
   "metadata": {},
   "outputs": [],
   "source": [
    "dic = {'alpha': np.array([[0.01, 0.15, 0.4 , 0.1 ],\n",
    "                            [0.15, 0.01, 0.1 , 0.4 ],\n",
    "                            [0.2 , 0.05, 0.01, 0.4 ],\n",
    "                            [0.05, 0.2 , 0.4 , 0.01]]),\n",
    " 'beta': 100,\n",
    " 'endo_baseline': np.array([0.1 , 0.1 , 0.25, 0.25]),\n",
    " 'exo_baseline': np.array([0.2, 0.2]),\n",
    " 'delay': [0.001, 0.001, 0.001, 0.001]}\n"
   ]
  },
  {
   "cell_type": "code",
   "execution_count": 391,
   "id": "697d437d",
   "metadata": {},
   "outputs": [
    {
     "name": "stdout",
     "output_type": "stream",
     "text": [
      "[0.001, 0.001, 0.001, 0.001]\n"
     ]
    }
   ],
   "source": [
    "simu.set_parameters(**dic)"
   ]
  },
  {
   "cell_type": "code",
   "execution_count": 392,
   "id": "a09dc304",
   "metadata": {},
   "outputs": [
    {
     "data": {
      "application/vnd.jupyter.widget-view+json": {
       "model_id": "35a2dd5560f94f9f80b665d0f917f013",
       "version_major": 2,
       "version_minor": 0
      },
      "text/plain": [
       "Simulating...:   0%|          | 0/10 [00:00<?, ?it/s]"
      ]
     },
     "metadata": {},
     "output_type": "display_data"
    }
   ],
   "source": [
    "ts, labels = simu.simulate(n_realization=10)"
   ]
  },
  {
   "cell_type": "code",
   "execution_count": 393,
   "id": "ef450821",
   "metadata": {},
   "outputs": [],
   "source": [
    "simu.compute_cumulants()"
   ]
  },
  {
   "cell_type": "code",
   "execution_count": 394,
   "id": "8e0042cd",
   "metadata": {},
   "outputs": [
    {
     "data": {
      "text/plain": [
       "array([1.08472747, 1.08472747, 1.22234215, 1.22234215])"
      ]
     },
     "execution_count": 394,
     "metadata": {},
     "output_type": "execute_result"
    }
   ],
   "source": [
    "simu.L"
   ]
  },
  {
   "cell_type": "code",
   "execution_count": 395,
   "id": "4a7b8fa4",
   "metadata": {},
   "outputs": [
    {
     "data": {
      "text/plain": [
       "tensor([[3.4172, 2.4162, 3.1079, 2.6987],\n",
       "        [2.4162, 3.4172, 2.6987, 3.1079],\n",
       "        [3.1079, 2.6987, 4.0471, 3.3378],\n",
       "        [2.6987, 3.1079, 3.3378, 4.0471]])"
      ]
     },
     "execution_count": 395,
     "metadata": {},
     "output_type": "execute_result"
    }
   ],
   "source": [
    "simu.C"
   ]
  },
  {
   "cell_type": "code",
   "execution_count": 396,
   "id": "4d4da091",
   "metadata": {},
   "outputs": [
    {
     "data": {
      "text/plain": [
       "tensor([[19.1718, 14.0444, 19.6190, 17.6557],\n",
       "        [14.0444, 19.1718, 17.6557, 19.6190],\n",
       "        [17.8543, 15.9443, 25.7685, 22.2816],\n",
       "        [15.9443, 17.8543, 22.2816, 25.7685]])"
      ]
     },
     "execution_count": 396,
     "metadata": {},
     "output_type": "execute_result"
    }
   ],
   "source": [
    "simu.K"
   ]
  },
  {
   "cell_type": "code",
   "execution_count": 397,
   "id": "f245418f",
   "metadata": {},
   "outputs": [
    {
     "data": {
      "text/plain": [
       "10"
      ]
     },
     "execution_count": 397,
     "metadata": {},
     "output_type": "execute_result"
    }
   ],
   "source": [
    "len(ts)"
   ]
  },
  {
   "cell_type": "code",
   "execution_count": 690,
   "id": "89a31ded",
   "metadata": {},
   "outputs": [],
   "source": [
    "from learner import Hawkes_Shot_Noise_Estimate"
   ]
  },
  {
   "cell_type": "code",
   "execution_count": 691,
   "id": "1514186b",
   "metadata": {},
   "outputs": [],
   "source": [
    "hsne = Hawkes_Shot_Noise_Estimate(4,2)"
   ]
  },
  {
   "cell_type": "code",
   "execution_count": 692,
   "id": "755a925d",
   "metadata": {},
   "outputs": [],
   "source": [
    "hsne.set_data(ts, end_time=1000)"
   ]
  },
  {
   "cell_type": "code",
   "execution_count": 693,
   "id": "8916853f",
   "metadata": {},
   "outputs": [],
   "source": [
    "hsne.estimate_cumulants(H=1)"
   ]
  },
  {
   "cell_type": "code",
   "execution_count": 694,
   "id": "f7065ee2",
   "metadata": {},
   "outputs": [
    {
     "data": {
      "text/plain": [
       "array([1.0726, 1.0669, 1.2148, 1.2083])"
      ]
     },
     "execution_count": 694,
     "metadata": {},
     "output_type": "execute_result"
    }
   ],
   "source": [
    "hsne.L_emp"
   ]
  },
  {
   "cell_type": "code",
   "execution_count": 695,
   "id": "197d0793",
   "metadata": {},
   "outputs": [],
   "source": [
    "hsne.set_init_values()\n",
    "hsne.set_variables()"
   ]
  },
  {
   "cell_type": "code",
   "execution_count": 696,
   "id": "88c5560a",
   "metadata": {},
   "outputs": [
    {
     "name": "stdout",
     "output_type": "stream",
     "text": [
      "tensor([0., 0.], requires_grad=True)\n",
      "iter 0, loss 793565120.0\n",
      "tensor([-0.0010, -0.0010], requires_grad=True)\n",
      "iter 1, loss 462655008.0\n",
      "tensor([-0.0020, -0.0020], requires_grad=True)\n",
      "iter 2, loss 289511840.0\n",
      "tensor([-0.0029, -0.0029], requires_grad=True)\n",
      "iter 3, loss 193164288.0\n",
      "tensor([-0.0037, -0.0037], requires_grad=True)\n",
      "iter 4, loss 136125808.0\n",
      "tensor([-0.0045, -0.0045], requires_grad=True)\n",
      "iter 5, loss 100409608.0\n",
      "tensor([-0.0052, -0.0052], requires_grad=True)\n",
      "iter 6, loss 76930752.0\n",
      "tensor([-0.0059, -0.0059], requires_grad=True)\n",
      "iter 7, loss 60841988.0\n",
      "tensor([-0.0066, -0.0065], requires_grad=True)\n",
      "iter 8, loss 49420968.0\n",
      "tensor([-0.0071, -0.0071], requires_grad=True)\n",
      "iter 9, loss 41065332.0\n"
     ]
    }
   ],
   "source": [
    "hsne.fit(10000, 0.001, 1000)"
   ]
  },
  {
   "cell_type": "code",
   "execution_count": 688,
   "id": "6a5ee954",
   "metadata": {},
   "outputs": [
    {
     "data": {
      "text/plain": [
       "(array([[1.40713073, 0.50992451, 0.6973145 , 0.50056449],\n",
       "        [0.50856778, 1.41697292, 0.48088388, 0.69753405],\n",
       "        [0.74209959, 0.51313395, 1.43117231, 0.70501995],\n",
       "        [0.5312862 , 0.74231962, 0.70313125, 1.42776379]]),\n",
       " array([0., 0.]))"
      ]
     },
     "execution_count": 688,
     "metadata": {},
     "output_type": "execute_result"
    }
   ],
   "source": [
    "hsne.init_phi, hsne.init_exo_baseline"
   ]
  },
  {
   "cell_type": "code",
   "execution_count": 689,
   "id": "5101689f",
   "metadata": {},
   "outputs": [
    {
     "data": {
      "text/plain": [
       "[tensor([[1.4173, 0.4446, 0.7932, 0.5028],\n",
       "         [0.4355, 1.4181, 0.4834, 0.7865],\n",
       "         [0.8446, 0.4564, 1.4918, 0.6007],\n",
       "         [0.4502, 0.8517, 0.5878, 1.4998]], requires_grad=True),\n",
       " tensor([-0.0060, -0.0060], requires_grad=True)]"
      ]
     },
     "execution_count": 689,
     "metadata": {},
     "output_type": "execute_result"
    }
   ],
   "source": [
    "hsne.variables"
   ]
  },
  {
   "cell_type": "code",
   "execution_count": 649,
   "id": "f2705e28",
   "metadata": {},
   "outputs": [
    {
     "data": {
      "text/plain": [
       "tensor([[-0.0100, -0.1069,  0.7318,  0.2275],\n",
       "        [ 0.3307,  0.5960,  0.6933, -0.5180],\n",
       "        [-0.2020,  0.3149,  0.9777, -0.5412],\n",
       "        [-0.4235,  1.2617,  0.4822,  0.1968]], requires_grad=True)"
      ]
     },
     "execution_count": 649,
     "metadata": {},
     "output_type": "execute_result"
    }
   ],
   "source": [
    "hsne.phi"
   ]
  },
  {
   "cell_type": "code",
   "execution_count": 648,
   "id": "c4f13ac4",
   "metadata": {},
   "outputs": [
    {
     "data": {
      "text/plain": [
       "tensor([0., 0.])"
      ]
     },
     "execution_count": 648,
     "metadata": {},
     "output_type": "execute_result"
    }
   ],
   "source": [
    "hsne.exo_baseline"
   ]
  },
  {
   "cell_type": "code",
   "execution_count": 635,
   "id": "32205370",
   "metadata": {},
   "outputs": [
    {
     "data": {
      "text/plain": [
       "{'alpha': array([[0.01, 0.15, 0.4 , 0.1 ],\n",
       "        [0.15, 0.01, 0.1 , 0.4 ],\n",
       "        [0.2 , 0.05, 0.01, 0.4 ],\n",
       "        [0.05, 0.2 , 0.4 , 0.01]]),\n",
       " 'beta': 100,\n",
       " 'endo_baseline': array([0.1 , 0.1 , 0.25, 0.25]),\n",
       " 'exo_baseline': array([0.2, 0.2]),\n",
       " 'delay': [0.001, 0.001, 0.001, 0.001]}"
      ]
     },
     "execution_count": 635,
     "metadata": {},
     "output_type": "execute_result"
    }
   ],
   "source": [
    "dic"
   ]
  },
  {
   "cell_type": "code",
   "execution_count": 665,
   "id": "3b2b701b",
   "metadata": {},
   "outputs": [],
   "source": [
    "m = torch.nn.ReLU(inplace=True)\n",
    "input = torch.randn(2)\n",
    "output = m(input)\n"
   ]
  },
  {
   "cell_type": "code",
   "execution_count": 666,
   "id": "562ad7d2",
   "metadata": {},
   "outputs": [
    {
     "data": {
      "text/plain": [
       "tensor([0.0802, 0.0000])"
      ]
     },
     "execution_count": 666,
     "metadata": {},
     "output_type": "execute_result"
    }
   ],
   "source": [
    "input"
   ]
  },
  {
   "cell_type": "code",
   "execution_count": 667,
   "id": "f49553f4",
   "metadata": {},
   "outputs": [
    {
     "data": {
      "text/plain": [
       "tensor([0.0802, 0.0000])"
      ]
     },
     "execution_count": 667,
     "metadata": {},
     "output_type": "execute_result"
    }
   ],
   "source": [
    "output"
   ]
  },
  {
   "cell_type": "code",
   "execution_count": null,
   "id": "9e4adf69",
   "metadata": {},
   "outputs": [],
   "source": []
  }
 ],
 "metadata": {
  "kernelspec": {
   "display_name": "Python 3 (ipykernel)",
   "language": "python",
   "name": "python3"
  },
  "language_info": {
   "codemirror_mode": {
    "name": "ipython",
    "version": 3
   },
   "file_extension": ".py",
   "mimetype": "text/x-python",
   "name": "python",
   "nbconvert_exporter": "python",
   "pygments_lexer": "ipython3",
   "version": "3.8.8"
  }
 },
 "nbformat": 4,
 "nbformat_minor": 5
}

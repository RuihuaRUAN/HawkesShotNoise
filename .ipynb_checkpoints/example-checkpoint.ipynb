{
 "cells": [
  {
   "cell_type": "code",
   "execution_count": 1,
   "id": "ba82cc80",
   "metadata": {},
   "outputs": [],
   "source": [
    "import torch\n",
    "import matplotlib.pyplot as plt"
   ]
  },
  {
   "cell_type": "code",
   "execution_count": 2,
   "id": "4bc2f7c6",
   "metadata": {},
   "outputs": [],
   "source": [
    "\n",
    "%load_ext autoreload\n",
    "%autoreload 2\n",
    "%matplotlib inline"
   ]
  },
  {
   "cell_type": "markdown",
   "id": "35bcc337",
   "metadata": {},
   "source": [
    "# simulation"
   ]
  },
  {
   "cell_type": "code",
   "execution_count": 3,
   "id": "b58bbed4",
   "metadata": {},
   "outputs": [],
   "source": [
    "from simulate import Hawkes_Shot_Noise_Simulate as HSNS"
   ]
  },
  {
   "cell_type": "code",
   "execution_count": 4,
   "id": "26747c1b",
   "metadata": {},
   "outputs": [],
   "source": [
    "import numpy as np"
   ]
  },
  {
   "cell_type": "code",
   "execution_count": 42,
   "id": "5f99b095",
   "metadata": {},
   "outputs": [],
   "source": [
    "param = {'alpha': np.array([[0.0, 0.15, 0.4 , 0. ],\n",
    "                            [0.15, 0.0, 0. , 0.4 ],\n",
    "                            [0.2 , 0.0, 0.0, 0.4 ],\n",
    "                            [0.0, 0.2 , 0.4 , 0.0]]),\n",
    " 'beta': 100,\n",
    " 'endo_baseline': np.array([0.1 , 0.1 , 0.2, 0.2]),\n",
    " 'exo_baseline': np.array([0.2, 0.2]),\n",
    " 'delay': 0.01 # Δ ~ np.random.exponential(delay)\n",
    "}"
   ]
  },
  {
   "cell_type": "code",
   "execution_count": 16,
   "id": "e4fdd821",
   "metadata": {},
   "outputs": [],
   "source": [
    "simu = HSNS(dim_endo=4, # observable dimension\n",
    "            dim_exo=2, # shot noise\n",
    "            verbose=False)"
   ]
  },
  {
   "cell_type": "code",
   "execution_count": 17,
   "id": "dc006472",
   "metadata": {},
   "outputs": [],
   "source": [
    "simu.set_parameters(**param)"
   ]
  },
  {
   "cell_type": "code",
   "execution_count": 18,
   "id": "f8e963eb",
   "metadata": {},
   "outputs": [
    {
     "data": {
      "application/vnd.jupyter.widget-view+json": {
       "model_id": "ca39d1dc4a76454b9c5159dbfcee6dc2",
       "version_major": 2,
       "version_minor": 0
      },
      "text/plain": [
       "Simulating...:   0%|          | 0/10 [00:00<?, ?it/s]"
      ]
     },
     "metadata": {},
     "output_type": "display_data"
    }
   ],
   "source": [
    "ts, labels = simu.simulate(\n",
    "            end_time=10000, n_realization=10)"
   ]
  },
  {
   "cell_type": "code",
   "execution_count": 19,
   "id": "252b8747",
   "metadata": {},
   "outputs": [],
   "source": [
    "simu.compute_cumulants()"
   ]
  },
  {
   "cell_type": "code",
   "execution_count": 20,
   "id": "e192070b",
   "metadata": {},
   "outputs": [
    {
     "data": {
      "text/plain": [
       "array([0.79069767, 0.79069767, 0.93023256, 0.93023256])"
      ]
     },
     "execution_count": 20,
     "metadata": {},
     "output_type": "execute_result"
    }
   ],
   "source": [
    "simu.L"
   ]
  },
  {
   "cell_type": "code",
   "execution_count": 21,
   "id": "59741b6a",
   "metadata": {},
   "outputs": [
    {
     "data": {
      "text/plain": [
       "tensor([[1.8425, 1.0212, 1.6418, 1.2201],\n",
       "        [1.0212, 1.8425, 1.2201, 1.6418],\n",
       "        [1.6418, 1.2201, 2.3760, 1.7977],\n",
       "        [1.2201, 1.6418, 1.7977, 2.3760]])"
      ]
     },
     "execution_count": 21,
     "metadata": {},
     "output_type": "execute_result"
    }
   ],
   "source": [
    "simu.C"
   ]
  },
  {
   "cell_type": "code",
   "execution_count": 22,
   "id": "3f8a3df7",
   "metadata": {},
   "outputs": [
    {
     "data": {
      "text/plain": [
       "tensor([[ 6.7879,  3.8581,  7.0633,  5.5565],\n",
       "        [ 3.8581,  6.7879,  5.5565,  7.0633],\n",
       "        [ 6.1525,  4.7278, 10.6285,  8.5420],\n",
       "        [ 4.7278,  6.1525,  8.5420, 10.6285]])"
      ]
     },
     "execution_count": 22,
     "metadata": {},
     "output_type": "execute_result"
    }
   ],
   "source": [
    "simu.K # K[i,i,j]"
   ]
  },
  {
   "cell_type": "markdown",
   "id": "145fa3ce",
   "metadata": {},
   "source": [
    "# Estimation"
   ]
  },
  {
   "cell_type": "code",
   "execution_count": 23,
   "id": "edecb976",
   "metadata": {
    "collapsed": true,
    "jupyter": {
     "outputs_hidden": true
    }
   },
   "outputs": [
    {
     "name": "stderr",
     "output_type": "stream",
     "text": [
      "2023-11-02 15:58:44.600298: I tensorflow/core/platform/cpu_feature_guard.cc:193] This TensorFlow binary is optimized with oneAPI Deep Neural Network Library (oneDNN) to use the following CPU instructions in performance-critical operations:  AVX2 FMA\n",
      "To enable them in other operations, rebuild TensorFlow with the appropriate compiler flags.\n",
      "2023-11-02 15:58:47.489647: E tensorflow/stream_executor/cuda/cuda_blas.cc:2981] Unable to register cuBLAS factory: Attempting to register factory for plugin cuBLAS when one has already been registered\n",
      "2023-11-02 15:58:52.759443: W tensorflow/stream_executor/platform/default/dso_loader.cc:64] Could not load dynamic library 'libnvinfer.so.7'; dlerror: libnvinfer.so.7: cannot open shared object file: No such file or directory\n",
      "2023-11-02 15:58:52.760228: W tensorflow/stream_executor/platform/default/dso_loader.cc:64] Could not load dynamic library 'libnvinfer_plugin.so.7'; dlerror: libnvinfer_plugin.so.7: cannot open shared object file: No such file or directory\n",
      "2023-11-02 15:58:52.760263: W tensorflow/compiler/tf2tensorrt/utils/py_utils.cc:38] TF-TRT Warning: Cannot dlopen some TensorRT libraries. If you would like to use Nvidia GPU with TensorRT, please make sure the missing libraries mentioned above are installed properly.\n"
     ]
    }
   ],
   "source": [
    "from estimate import Hawkes_Shot_Noise_Estimate"
   ]
  },
  {
   "cell_type": "markdown",
   "id": "bf8d8fa1",
   "metadata": {},
   "source": [
    "## sparse\n"
   ]
  },
  {
   "cell_type": "code",
   "execution_count": 24,
   "id": "3bf77ae1",
   "metadata": {},
   "outputs": [],
   "source": [
    "from learners import sparse_phi"
   ]
  },
  {
   "cell_type": "code",
   "execution_count": 25,
   "id": "e19db592",
   "metadata": {},
   "outputs": [],
   "source": [
    "hsne = sparse_phi(4,2)"
   ]
  },
  {
   "cell_type": "code",
   "execution_count": 26,
   "id": "e5cfd265",
   "metadata": {},
   "outputs": [],
   "source": [
    "hsne.set_data(ts, end_time=10000)"
   ]
  },
  {
   "cell_type": "code",
   "execution_count": 29,
   "id": "12ee9f64",
   "metadata": {},
   "outputs": [],
   "source": [
    "hsne.estimate_cumulants(H=1)"
   ]
  },
  {
   "cell_type": "code",
   "execution_count": 30,
   "id": "b458ffa7",
   "metadata": {},
   "outputs": [
    {
     "name": "stderr",
     "output_type": "stream",
     "text": [
      "/mnt/nfs/nrdata02-users-data/ruan/ANotebook/HawkesShotNoise/learners.py:137: UserWarning: To copy construct from a tensor, it is recommended to use sourceTensor.clone().detach() or sourceTensor.clone().detach().requires_grad_(True), rather than torch.tensor(sourceTensor).\n",
      "  self.var_phi = torch.tensor(\n"
     ]
    }
   ],
   "source": [
    "hsne.set_init_values()\n",
    "hsne.set_variables()"
   ]
  },
  {
   "cell_type": "code",
   "execution_count": 32,
   "id": "5bc0c51c",
   "metadata": {},
   "outputs": [
    {
     "name": "stdout",
     "output_type": "stream",
     "text": [
      "     n_iter  |  objective  |    rel_obj  \n",
      "-----------------------------------------\n",
      "          0  |   2.31e-03  |   9.05e-02\n",
      "        267  |   2.12e-03  |     0.e+00\n",
      "      20000  |   2.12e-03  |     0.e+00\n"
     ]
    }
   ],
   "source": [
    "hsne.fit(max_iter=20000, \n",
    "         learning_rate=0.001, \n",
    "         tol=1e-8, \n",
    "         print_every=1000)"
   ]
  },
  {
   "cell_type": "code",
   "execution_count": 43,
   "id": "fa067d69",
   "metadata": {},
   "outputs": [
    {
     "data": {
      "text/plain": [
       "(array([[0.        , 0.14836942, 0.38895676, 0.        ],\n",
       "        [0.14836942, 0.        , 0.        , 0.38895676],\n",
       "        [0.20238303, 0.        , 0.        , 0.3960919 ],\n",
       "        [0.        , 0.20238303, 0.3960919 , 0.        ]], dtype=float32),\n",
       " array([[0.  , 0.15, 0.4 , 0.  ],\n",
       "        [0.15, 0.  , 0.  , 0.4 ],\n",
       "        [0.2 , 0.  , 0.  , 0.4 ],\n",
       "        [0.  , 0.2 , 0.4 , 0.  ]]))"
      ]
     },
     "execution_count": 43,
     "metadata": {},
     "output_type": "execute_result"
    }
   ],
   "source": [
    "# estimated, true\n",
    "hsne.adjacency, param['alpha']"
   ]
  },
  {
   "cell_type": "code",
   "execution_count": 44,
   "id": "5141c015",
   "metadata": {},
   "outputs": [
    {
     "data": {
      "text/plain": [
       "(array([0.09548187, 0.09340492, 0.19225264, 0.18402952], dtype=float32),\n",
       " array([0.1, 0.1, 0.2, 0.2]))"
      ]
     },
     "execution_count": 44,
     "metadata": {},
     "output_type": "execute_result"
    }
   ],
   "source": [
    "# estimated, true\n",
    "hsne.endo_baseline, param['endo_baseline']"
   ]
  },
  {
   "cell_type": "code",
   "execution_count": 38,
   "id": "8adbcbb4",
   "metadata": {},
   "outputs": [
    {
     "data": {
      "text/plain": [
       "tensor(0.0954)"
      ]
     },
     "execution_count": 38,
     "metadata": {},
     "output_type": "execute_result"
    }
   ],
   "source": [
    "# loss using true parameters\n",
    "hsne.objective(var_phi = torch.tensor([0.15,0.4,0.2,0.4]), var_exo_mu=torch.tensor([0.2]))"
   ]
  },
  {
   "cell_type": "code",
   "execution_count": 39,
   "id": "7b8bee06",
   "metadata": {},
   "outputs": [
    {
     "data": {
      "text/plain": [
       "tensor(0.0021, grad_fn=<AddBackward0>)"
      ]
     },
     "execution_count": 39,
     "metadata": {},
     "output_type": "execute_result"
    }
   ],
   "source": [
    "# optimal loss \n",
    "hsne.objective()"
   ]
  },
  {
   "cell_type": "markdown",
   "id": "c5643e68",
   "metadata": {},
   "source": [
    "## full\n"
   ]
  },
  {
   "cell_type": "code",
   "execution_count": 45,
   "id": "80399807",
   "metadata": {},
   "outputs": [],
   "source": [
    "from learners import general_phi"
   ]
  },
  {
   "cell_type": "code",
   "execution_count": 46,
   "id": "d5472a3d",
   "metadata": {},
   "outputs": [],
   "source": [
    "hsne = general_phi(4,2)"
   ]
  },
  {
   "cell_type": "code",
   "execution_count": 47,
   "id": "50ecef20",
   "metadata": {},
   "outputs": [],
   "source": [
    "hsne.set_data(ts, end_time=10000)"
   ]
  },
  {
   "cell_type": "code",
   "execution_count": 48,
   "id": "3acef3a3",
   "metadata": {},
   "outputs": [],
   "source": [
    "hsne.estimate_cumulants(H=1)"
   ]
  },
  {
   "cell_type": "code",
   "execution_count": 50,
   "id": "b90ae485",
   "metadata": {},
   "outputs": [],
   "source": [
    "hsne.set_init_values()\n",
    "hsne.set_variables()"
   ]
  },
  {
   "cell_type": "code",
   "execution_count": 54,
   "id": "ae934a78",
   "metadata": {},
   "outputs": [
    {
     "name": "stdout",
     "output_type": "stream",
     "text": [
      "     n_iter  |  objective  |    rel_obj  \n",
      "-----------------------------------------\n",
      "          0  |   7.07e-02  |   2.25e+02\n",
      "        159  |   3.12e-04  |     0.e+00\n",
      "      20000  |   3.12e-04  |     0.e+00\n"
     ]
    }
   ],
   "source": [
    "hsne.fit(max_iter=20000, \n",
    "         learning_rate=0.001, \n",
    "         tol=1e-8, \n",
    "         print_every=1000)"
   ]
  },
  {
   "cell_type": "code",
   "execution_count": 55,
   "id": "c71d0157",
   "metadata": {},
   "outputs": [
    {
     "data": {
      "text/plain": [
       "(array([[ 0.02128724,  0.12062107,  0.37719485, -0.02044364],\n",
       "        [ 0.15849994,  0.0037724 ,  0.0677767 ,  0.35775036],\n",
       "        [ 0.23066519, -0.09110864,  0.0030667 ,  0.40808672],\n",
       "        [ 0.02948145,  0.21792513,  0.41613784, -0.02102903]],\n",
       "       dtype=float32),\n",
       " array([[0.  , 0.15, 0.4 , 0.  ],\n",
       "        [0.15, 0.  , 0.  , 0.4 ],\n",
       "        [0.2 , 0.  , 0.  , 0.4 ],\n",
       "        [0.  , 0.2 , 0.4 , 0.  ]]))"
      ]
     },
     "execution_count": 55,
     "metadata": {},
     "output_type": "execute_result"
    }
   ],
   "source": [
    "# estimated, true\n",
    "hsne.adjacency, param['alpha']"
   ]
  },
  {
   "cell_type": "code",
   "execution_count": 56,
   "id": "dada8406",
   "metadata": {},
   "outputs": [
    {
     "data": {
      "text/plain": [
       "(array([0.10792889, 0.07944867, 0.20502712, 0.18067548], dtype=float32),\n",
       " array([0.1, 0.1, 0.2, 0.2]))"
      ]
     },
     "execution_count": 56,
     "metadata": {},
     "output_type": "execute_result"
    }
   ],
   "source": [
    "# estimated, true\n",
    "hsne.endo_baseline, param['endo_baseline']"
   ]
  },
  {
   "cell_type": "code",
   "execution_count": 57,
   "id": "c04a01fc",
   "metadata": {},
   "outputs": [
    {
     "data": {
      "text/plain": [
       "(array([0.23676659, 0.18294972], dtype=float32), array([0.2, 0.2]))"
      ]
     },
     "execution_count": 57,
     "metadata": {},
     "output_type": "execute_result"
    }
   ],
   "source": [
    "# estimated, true\n",
    "hsne.exo_baseline, param['exo_baseline']"
   ]
  },
  {
   "cell_type": "code",
   "execution_count": 59,
   "id": "9cfebf78",
   "metadata": {},
   "outputs": [
    {
     "data": {
      "text/plain": [
       "tensor(0.0954)"
      ]
     },
     "execution_count": 59,
     "metadata": {},
     "output_type": "execute_result"
    }
   ],
   "source": [
    "hsne.objective(var_phi=torch.tensor(simu.adjacencys[0], dtype=torch.float32), \n",
    "               var_exo_mu=torch.tensor(simu.exo_baselines, dtype=torch.float32))"
   ]
  },
  {
   "cell_type": "code",
   "execution_count": 60,
   "id": "6ffaa868",
   "metadata": {},
   "outputs": [
    {
     "data": {
      "text/plain": [
       "tensor(0.0003, grad_fn=<AddBackward0>)"
      ]
     },
     "execution_count": 60,
     "metadata": {},
     "output_type": "execute_result"
    }
   ],
   "source": [
    "hsne.objective()"
   ]
  }
 ],
 "metadata": {
  "kernelspec": {
   "display_name": "Python 3 (ipykernel)",
   "language": "python",
   "name": "python3"
  },
  "language_info": {
   "codemirror_mode": {
    "name": "ipython",
    "version": 3
   },
   "file_extension": ".py",
   "mimetype": "text/x-python",
   "name": "python",
   "nbconvert_exporter": "python",
   "pygments_lexer": "ipython3",
   "version": "3.8.8"
  }
 },
 "nbformat": 4,
 "nbformat_minor": 5
}
